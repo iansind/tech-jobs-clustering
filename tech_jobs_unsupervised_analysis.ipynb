{
 "cells": [
  {
   "cell_type": "markdown",
   "id": "ad4f1529",
   "metadata": {},
   "source": [
    "https://www.kaggle.com/datasets/andrewmvd/data-analyst-jobs"
   ]
  },
  {
   "cell_type": "code",
   "execution_count": 1,
   "id": "c65347a4",
   "metadata": {},
   "outputs": [],
   "source": [
    "import pandas as pd\n",
    "import numpy as np\n",
    "import re"
   ]
  },
  {
   "cell_type": "code",
   "execution_count": 2,
   "id": "81e39407",
   "metadata": {},
   "outputs": [
    {
     "data": {
      "text/html": [
       "<div>\n",
       "<style scoped>\n",
       "    .dataframe tbody tr th:only-of-type {\n",
       "        vertical-align: middle;\n",
       "    }\n",
       "\n",
       "    .dataframe tbody tr th {\n",
       "        vertical-align: top;\n",
       "    }\n",
       "\n",
       "    .dataframe thead th {\n",
       "        text-align: right;\n",
       "    }\n",
       "</style>\n",
       "<table border=\"1\" class=\"dataframe\">\n",
       "  <thead>\n",
       "    <tr style=\"text-align: right;\">\n",
       "      <th></th>\n",
       "      <th>Unnamed: 0</th>\n",
       "      <th>Job Title</th>\n",
       "      <th>Salary Estimate</th>\n",
       "      <th>Job Description</th>\n",
       "      <th>Rating</th>\n",
       "      <th>Company Name</th>\n",
       "      <th>Location</th>\n",
       "      <th>Headquarters</th>\n",
       "      <th>Size</th>\n",
       "      <th>Founded</th>\n",
       "      <th>Type of ownership</th>\n",
       "      <th>Industry</th>\n",
       "      <th>Sector</th>\n",
       "      <th>Revenue</th>\n",
       "      <th>Competitors</th>\n",
       "      <th>Easy Apply</th>\n",
       "    </tr>\n",
       "  </thead>\n",
       "  <tbody>\n",
       "    <tr>\n",
       "      <th>0</th>\n",
       "      <td>0</td>\n",
       "      <td>Data Analyst, Center on Immigration and Justic...</td>\n",
       "      <td>$37K-$66K (Glassdoor est.)</td>\n",
       "      <td>Are you eager to roll up your sleeves and harn...</td>\n",
       "      <td>3.2</td>\n",
       "      <td>Vera Institute of Justice\\n3.2</td>\n",
       "      <td>New York, NY</td>\n",
       "      <td>New York, NY</td>\n",
       "      <td>201 to 500 employees</td>\n",
       "      <td>1961</td>\n",
       "      <td>Nonprofit Organization</td>\n",
       "      <td>Social Assistance</td>\n",
       "      <td>Non-Profit</td>\n",
       "      <td>$100 to $500 million (USD)</td>\n",
       "      <td>-1</td>\n",
       "      <td>True</td>\n",
       "    </tr>\n",
       "    <tr>\n",
       "      <th>1</th>\n",
       "      <td>1</td>\n",
       "      <td>Quality Data Analyst</td>\n",
       "      <td>$37K-$66K (Glassdoor est.)</td>\n",
       "      <td>Overview\\n\\nProvides analytical and technical ...</td>\n",
       "      <td>3.8</td>\n",
       "      <td>Visiting Nurse Service of New York\\n3.8</td>\n",
       "      <td>New York, NY</td>\n",
       "      <td>New York, NY</td>\n",
       "      <td>10000+ employees</td>\n",
       "      <td>1893</td>\n",
       "      <td>Nonprofit Organization</td>\n",
       "      <td>Health Care Services &amp; Hospitals</td>\n",
       "      <td>Health Care</td>\n",
       "      <td>$2 to $5 billion (USD)</td>\n",
       "      <td>-1</td>\n",
       "      <td>-1</td>\n",
       "    </tr>\n",
       "    <tr>\n",
       "      <th>2</th>\n",
       "      <td>2</td>\n",
       "      <td>Senior Data Analyst, Insights &amp; Analytics Team...</td>\n",
       "      <td>$37K-$66K (Glassdoor est.)</td>\n",
       "      <td>We’re looking for a Senior Data Analyst who ha...</td>\n",
       "      <td>3.4</td>\n",
       "      <td>Squarespace\\n3.4</td>\n",
       "      <td>New York, NY</td>\n",
       "      <td>New York, NY</td>\n",
       "      <td>1001 to 5000 employees</td>\n",
       "      <td>2003</td>\n",
       "      <td>Company - Private</td>\n",
       "      <td>Internet</td>\n",
       "      <td>Information Technology</td>\n",
       "      <td>Unknown / Non-Applicable</td>\n",
       "      <td>GoDaddy</td>\n",
       "      <td>-1</td>\n",
       "    </tr>\n",
       "    <tr>\n",
       "      <th>3</th>\n",
       "      <td>3</td>\n",
       "      <td>Data Analyst</td>\n",
       "      <td>$37K-$66K (Glassdoor est.)</td>\n",
       "      <td>Requisition NumberRR-0001939\\nRemote:Yes\\nWe c...</td>\n",
       "      <td>4.1</td>\n",
       "      <td>Celerity\\n4.1</td>\n",
       "      <td>New York, NY</td>\n",
       "      <td>McLean, VA</td>\n",
       "      <td>201 to 500 employees</td>\n",
       "      <td>2002</td>\n",
       "      <td>Subsidiary or Business Segment</td>\n",
       "      <td>IT Services</td>\n",
       "      <td>Information Technology</td>\n",
       "      <td>$50 to $100 million (USD)</td>\n",
       "      <td>-1</td>\n",
       "      <td>-1</td>\n",
       "    </tr>\n",
       "    <tr>\n",
       "      <th>4</th>\n",
       "      <td>4</td>\n",
       "      <td>Reporting Data Analyst</td>\n",
       "      <td>$37K-$66K (Glassdoor est.)</td>\n",
       "      <td>ABOUT FANDUEL GROUP\\n\\nFanDuel Group is a worl...</td>\n",
       "      <td>3.9</td>\n",
       "      <td>FanDuel\\n3.9</td>\n",
       "      <td>New York, NY</td>\n",
       "      <td>New York, NY</td>\n",
       "      <td>501 to 1000 employees</td>\n",
       "      <td>2009</td>\n",
       "      <td>Company - Private</td>\n",
       "      <td>Sports &amp; Recreation</td>\n",
       "      <td>Arts, Entertainment &amp; Recreation</td>\n",
       "      <td>$100 to $500 million (USD)</td>\n",
       "      <td>DraftKings</td>\n",
       "      <td>True</td>\n",
       "    </tr>\n",
       "  </tbody>\n",
       "</table>\n",
       "</div>"
      ],
      "text/plain": [
       "   Unnamed: 0                                          Job Title  \\\n",
       "0           0  Data Analyst, Center on Immigration and Justic...   \n",
       "1           1                               Quality Data Analyst   \n",
       "2           2  Senior Data Analyst, Insights & Analytics Team...   \n",
       "3           3                                       Data Analyst   \n",
       "4           4                             Reporting Data Analyst   \n",
       "\n",
       "              Salary Estimate  \\\n",
       "0  $37K-$66K (Glassdoor est.)   \n",
       "1  $37K-$66K (Glassdoor est.)   \n",
       "2  $37K-$66K (Glassdoor est.)   \n",
       "3  $37K-$66K (Glassdoor est.)   \n",
       "4  $37K-$66K (Glassdoor est.)   \n",
       "\n",
       "                                     Job Description  Rating  \\\n",
       "0  Are you eager to roll up your sleeves and harn...     3.2   \n",
       "1  Overview\\n\\nProvides analytical and technical ...     3.8   \n",
       "2  We’re looking for a Senior Data Analyst who ha...     3.4   \n",
       "3  Requisition NumberRR-0001939\\nRemote:Yes\\nWe c...     4.1   \n",
       "4  ABOUT FANDUEL GROUP\\n\\nFanDuel Group is a worl...     3.9   \n",
       "\n",
       "                              Company Name      Location  Headquarters  \\\n",
       "0           Vera Institute of Justice\\n3.2  New York, NY  New York, NY   \n",
       "1  Visiting Nurse Service of New York\\n3.8  New York, NY  New York, NY   \n",
       "2                         Squarespace\\n3.4  New York, NY  New York, NY   \n",
       "3                            Celerity\\n4.1  New York, NY    McLean, VA   \n",
       "4                             FanDuel\\n3.9  New York, NY  New York, NY   \n",
       "\n",
       "                     Size  Founded               Type of ownership  \\\n",
       "0    201 to 500 employees     1961          Nonprofit Organization   \n",
       "1        10000+ employees     1893          Nonprofit Organization   \n",
       "2  1001 to 5000 employees     2003               Company - Private   \n",
       "3    201 to 500 employees     2002  Subsidiary or Business Segment   \n",
       "4   501 to 1000 employees     2009               Company - Private   \n",
       "\n",
       "                           Industry                            Sector  \\\n",
       "0                 Social Assistance                        Non-Profit   \n",
       "1  Health Care Services & Hospitals                       Health Care   \n",
       "2                          Internet            Information Technology   \n",
       "3                       IT Services            Information Technology   \n",
       "4               Sports & Recreation  Arts, Entertainment & Recreation   \n",
       "\n",
       "                      Revenue Competitors Easy Apply  \n",
       "0  $100 to $500 million (USD)          -1       True  \n",
       "1      $2 to $5 billion (USD)          -1         -1  \n",
       "2    Unknown / Non-Applicable     GoDaddy         -1  \n",
       "3   $50 to $100 million (USD)          -1         -1  \n",
       "4  $100 to $500 million (USD)  DraftKings       True  "
      ]
     },
     "execution_count": 2,
     "metadata": {},
     "output_type": "execute_result"
    }
   ],
   "source": [
    "df = pd.read_csv('DataAnalyst.csv')\n",
    "df.head()"
   ]
  },
  {
   "cell_type": "markdown",
   "id": "7f434094",
   "metadata": {},
   "source": [
    "## Cleaning the Dataset\n",
    "\n",
    "In this dataset, null values are indicated by a \"-1\". Since this won't show up as a null value during data exploration, all values equalling -1 will be converted to NaNs. "
   ]
  },
  {
   "cell_type": "code",
   "execution_count": 3,
   "id": "ae129c0a",
   "metadata": {},
   "outputs": [
    {
     "name": "stdout",
     "output_type": "stream",
     "text": [
      "<class 'pandas.core.frame.DataFrame'>\n",
      "RangeIndex: 2253 entries, 0 to 2252\n",
      "Data columns (total 16 columns):\n",
      " #   Column             Non-Null Count  Dtype \n",
      "---  ------             --------------  ----- \n",
      " 0   Unnamed: 0         2253 non-null   int64 \n",
      " 1   Job Title          2253 non-null   object\n",
      " 2   Salary Estimate    2252 non-null   object\n",
      " 3   Job Description    2253 non-null   object\n",
      " 4   Rating             1981 non-null   object\n",
      " 5   Company Name       2252 non-null   object\n",
      " 6   Location           2253 non-null   object\n",
      " 7   Headquarters       2081 non-null   object\n",
      " 8   Size               2090 non-null   object\n",
      " 9   Founded            1593 non-null   object\n",
      " 10  Type of ownership  2090 non-null   object\n",
      " 11  Industry           1900 non-null   object\n",
      " 12  Sector             1900 non-null   object\n",
      " 13  Revenue            2090 non-null   object\n",
      " 14  Competitors        521 non-null    object\n",
      " 15  Easy Apply         80 non-null     object\n",
      "dtypes: int64(1), object(15)\n",
      "memory usage: 281.8+ KB\n"
     ]
    }
   ],
   "source": [
    "df = df.replace('-1', None)\n",
    "df = df.replace(-1, None)\n",
    "df.info()"
   ]
  },
  {
   "cell_type": "code",
   "execution_count": 4,
   "id": "e9204135",
   "metadata": {},
   "outputs": [
    {
     "data": {
      "text/plain": [
       "IT Services                            325\n",
       "Staffing & Outsourcing                 323\n",
       "Health Care Services & Hospitals       151\n",
       "Computer Hardware & Software           111\n",
       "Consulting                             111\n",
       "                                      ... \n",
       "Truck Rental & Leasing                   1\n",
       "News Outlet                              1\n",
       "Catering & Food Service Contractors      1\n",
       "Chemical Manufacturing                   1\n",
       "Hotels, Motels, & Resorts                1\n",
       "Name: Industry, Length: 88, dtype: int64"
      ]
     },
     "execution_count": 4,
     "metadata": {},
     "output_type": "execute_result"
    }
   ],
   "source": [
    "# Sample of attribute exploration. This has been performed for all features, but only one sample attribute has been kept\n",
    "# as to reduce the amount of space taken up by this analysis. \n",
    "df['Industry'].value_counts()"
   ]
  },
  {
   "attachments": {},
   "cell_type": "markdown",
   "id": "4b2bd17a",
   "metadata": {},
   "source": [
    "The attributes \"Competitors\" and \"Easy Apply\" will be dropped, as they contain mostly null values and are of little interest to this assessment. \n",
    "\n",
    "Moving forward, this analysis will make the presumption that job seekers generally care about some of these remaining attributes far more than others. The goal in this feature selection will be to best map this preference in a workable way. The additional attributes that will be dropped are:\n",
    "- \"Company Name\": important to the job seeker, but not useful in clustering when there are no associated company features by which to compare companies to each other. \n",
    "- \"Headquarters\": Most job seekers likely do not hold strong preferences here.\n",
    "- \"Type of ownership\": Heavily imbalanced and usually of relatively little consideration.\n",
    "- \"Industry\": Could be rather useful, but highly obfuscated by the fact that many jobs are listed through a staffing agency that are irrelevant to the job itself, and that generic categories like \"IT Serivces\" are often used. Additionally, the \"Sector\" attribute already captures much of the desired information.\n",
    "- \"Revenue\": A plurality of these are unknown, and startup status will be captured by other features. \n",
    "\n",
    "The follow attributes will be reworked into new ones:\n",
    "- \"Unnamed: 0\": Will be renamed as \"Job ID\" for the purpose of this analysis. \n",
    "- \"Job Title\": Will need to be reduced into more easily useable bins, as many job titles are tantamount to each other and differ primarily in a semantic sense. \n",
    "- \"Salary Estimate\": Will be converted into a more useable numeric format consisting of the median between the two values.\n",
    "- \"Job Description\": Will be vectorized as to be useable by data analysis tools.\n",
    "- \"Founded\": Will be converted to \"Company Age\", then binned. This should be useful as job seekers likely have a preference in working for a recent startup or not. "
   ]
  },
  {
   "cell_type": "code",
   "execution_count": 5,
   "id": "13fea7e9",
   "metadata": {},
   "outputs": [
    {
     "name": "stdout",
     "output_type": "stream",
     "text": [
      "<class 'pandas.core.frame.DataFrame'>\n",
      "RangeIndex: 2253 entries, 0 to 2252\n",
      "Data columns (total 9 columns):\n",
      " #   Column           Non-Null Count  Dtype \n",
      "---  ------           --------------  ----- \n",
      " 0   Job ID           2253 non-null   int64 \n",
      " 1   Job Title        2253 non-null   object\n",
      " 2   Salary Estimate  2252 non-null   object\n",
      " 3   Job Description  2253 non-null   object\n",
      " 4   Rating           1981 non-null   object\n",
      " 5   Location         2253 non-null   object\n",
      " 6   Size             2090 non-null   object\n",
      " 7   Founded          1593 non-null   object\n",
      " 8   Sector           1900 non-null   object\n",
      "dtypes: int64(1), object(8)\n",
      "memory usage: 158.5+ KB\n"
     ]
    }
   ],
   "source": [
    "# Dropping the unnecessary columns\n",
    "cols_to_drop = ['Competitors', 'Easy Apply', 'Company Name', 'Headquarters', 'Type of ownership', 'Industry', 'Revenue']\n",
    "df.drop(cols_to_drop, axis=1, inplace=True)\n",
    "\n",
    "# Renaming the ID column\n",
    "df.rename(columns={'Unnamed: 0': 'Job ID'}, inplace=True)\n",
    "\n",
    "df.info()"
   ]
  },
  {
   "cell_type": "markdown",
   "id": "0f75bc1d",
   "metadata": {},
   "source": [
    "Since the 'Founded' attributes contains significantly more null values than the other columns, the null values will be imputed with the attribute median. The median is used in this case to account for the skew of the data, represented in the histogram below. \n",
    "\n",
    "Other values that are straightforward to impute, such as the numeric values of 'Rating', will be similarly handled. "
   ]
  },
  {
   "cell_type": "code",
   "execution_count": 14,
   "id": "b3f0222c",
   "metadata": {},
   "outputs": [
    {
     "data": {
      "text/plain": [
       "<AxesSubplot: title={'center': 'Founded'}, ylabel='Frequency'>"
      ]
     },
     "execution_count": 14,
     "metadata": {},
     "output_type": "execute_result"
    },
    {
     "data": {
      "image/png": "[encoded data removed]",
      "text/plain": [
       "<Figure size 640x480 with 1 Axes>"
      ]
     },
     "metadata": {},
     "output_type": "display_data"
    }
   ],
   "source": [
    "df['Founded'].plot(kind='hist', title='Founded')"
   ]
  },
  {
   "cell_type": "code",
   "execution_count": 15,
   "id": "4682619d",
   "metadata": {},
   "outputs": [
    {
     "data": {
      "text/plain": [
       "<AxesSubplot: title={'center': 'Rating'}, ylabel='Frequency'>"
      ]
     },
     "execution_count": 15,
     "metadata": {},
     "output_type": "execute_result"
    },
    {
     "data": {
      "image/png": "[encoded data removed]",
      "text/plain": [
       "<Figure size 640x480 with 1 Axes>"
      ]
     },
     "metadata": {},
     "output_type": "display_data"
    }
   ],
   "source": [
    "df['Rating'].plot(kind='hist', title='Rating')"
   ]
  },
  {
   "cell_type": "code",
   "execution_count": 8,
   "id": "71e93767",
   "metadata": {},
   "outputs": [
    {
     "name": "stdout",
     "output_type": "stream",
     "text": [
      "<class 'pandas.core.frame.DataFrame'>\n",
      "Int64Index: 1899 entries, 0 to 2252\n",
      "Data columns (total 9 columns):\n",
      " #   Column           Non-Null Count  Dtype  \n",
      "---  ------           --------------  -----  \n",
      " 0   Job ID           1899 non-null   int64  \n",
      " 1   Job Title        1899 non-null   object \n",
      " 2   Salary Estimate  1899 non-null   object \n",
      " 3   Job Description  1899 non-null   object \n",
      " 4   Rating           1899 non-null   float64\n",
      " 5   Location         1899 non-null   object \n",
      " 6   Size             1899 non-null   object \n",
      " 7   Founded          1899 non-null   float64\n",
      " 8   Sector           1899 non-null   object \n",
      "dtypes: float64(2), int64(1), object(6)\n",
      "memory usage: 148.4+ KB\n"
     ]
    }
   ],
   "source": [
    "df['Founded'].fillna(df['Founded'].median(), inplace=True)\n",
    "df['Rating'].fillna(df['Rating'].median(), inplace=True)\n",
    "df.dropna(inplace=True)\n",
    "df.info()"
   ]
  },
  {
   "cell_type": "markdown",
   "id": "e5800106",
   "metadata": {},
   "source": [
    "Dropping the null values after imputation results in merely a 16% reduction of the dataset vs 31% without the imputation. \n",
    "\n",
    "Next, values in 'Salary Estimate' will be replaced with the mean of their range. A function will loop through the database here, as it is more complex than a simple mathematical computation of an existing numeric attribute. The 'findall' regex function makes this more difficult to weave into a Pandas replace function. "
   ]
  },
  {
   "cell_type": "code",
   "execution_count": 9,
   "id": "f3d81e4f",
   "metadata": {},
   "outputs": [
    {
     "data": {
      "text/html": [
       "<div>\n",
       "<style scoped>\n",
       "    .dataframe tbody tr th:only-of-type {\n",
       "        vertical-align: middle;\n",
       "    }\n",
       "\n",
       "    .dataframe tbody tr th {\n",
       "        vertical-align: top;\n",
       "    }\n",
       "\n",
       "    .dataframe thead th {\n",
       "        text-align: right;\n",
       "    }\n",
       "</style>\n",
       "<table border=\"1\" class=\"dataframe\">\n",
       "  <thead>\n",
       "    <tr style=\"text-align: right;\">\n",
       "      <th></th>\n",
       "      <th>Job ID</th>\n",
       "      <th>Job Title</th>\n",
       "      <th>Salary Estimate</th>\n",
       "      <th>Job Description</th>\n",
       "      <th>Rating</th>\n",
       "      <th>Location</th>\n",
       "      <th>Size</th>\n",
       "      <th>Founded</th>\n",
       "      <th>Sector</th>\n",
       "    </tr>\n",
       "  </thead>\n",
       "  <tbody>\n",
       "    <tr>\n",
       "      <th>0</th>\n",
       "      <td>0</td>\n",
       "      <td>Data Analyst, Center on Immigration and Justic...</td>\n",
       "      <td>51.5</td>\n",
       "      <td>Are you eager to roll up your sleeves and harn...</td>\n",
       "      <td>3.2</td>\n",
       "      <td>New York, NY</td>\n",
       "      <td>201 to 500 employees</td>\n",
       "      <td>1961.0</td>\n",
       "      <td>Non-Profit</td>\n",
       "    </tr>\n",
       "    <tr>\n",
       "      <th>1</th>\n",
       "      <td>1</td>\n",
       "      <td>Quality Data Analyst</td>\n",
       "      <td>51.5</td>\n",
       "      <td>Overview\\n\\nProvides analytical and technical ...</td>\n",
       "      <td>3.8</td>\n",
       "      <td>New York, NY</td>\n",
       "      <td>10000+ employees</td>\n",
       "      <td>1893.0</td>\n",
       "      <td>Health Care</td>\n",
       "    </tr>\n",
       "    <tr>\n",
       "      <th>2</th>\n",
       "      <td>2</td>\n",
       "      <td>Senior Data Analyst, Insights &amp; Analytics Team...</td>\n",
       "      <td>51.5</td>\n",
       "      <td>We’re looking for a Senior Data Analyst who ha...</td>\n",
       "      <td>3.4</td>\n",
       "      <td>New York, NY</td>\n",
       "      <td>1001 to 5000 employees</td>\n",
       "      <td>2003.0</td>\n",
       "      <td>Information Technology</td>\n",
       "    </tr>\n",
       "    <tr>\n",
       "      <th>3</th>\n",
       "      <td>3</td>\n",
       "      <td>Data Analyst</td>\n",
       "      <td>51.5</td>\n",
       "      <td>Requisition NumberRR-0001939\\nRemote:Yes\\nWe c...</td>\n",
       "      <td>4.1</td>\n",
       "      <td>New York, NY</td>\n",
       "      <td>201 to 500 employees</td>\n",
       "      <td>2002.0</td>\n",
       "      <td>Information Technology</td>\n",
       "    </tr>\n",
       "    <tr>\n",
       "      <th>4</th>\n",
       "      <td>4</td>\n",
       "      <td>Reporting Data Analyst</td>\n",
       "      <td>51.5</td>\n",
       "      <td>ABOUT FANDUEL GROUP\\n\\nFanDuel Group is a worl...</td>\n",
       "      <td>3.9</td>\n",
       "      <td>New York, NY</td>\n",
       "      <td>501 to 1000 employees</td>\n",
       "      <td>2009.0</td>\n",
       "      <td>Arts, Entertainment &amp; Recreation</td>\n",
       "    </tr>\n",
       "  </tbody>\n",
       "</table>\n",
       "</div>"
      ],
      "text/plain": [
       "   Job ID                                          Job Title Salary Estimate  \\\n",
       "0       0  Data Analyst, Center on Immigration and Justic...            51.5   \n",
       "1       1                               Quality Data Analyst            51.5   \n",
       "2       2  Senior Data Analyst, Insights & Analytics Team...            51.5   \n",
       "3       3                                       Data Analyst            51.5   \n",
       "4       4                             Reporting Data Analyst            51.5   \n",
       "\n",
       "                                     Job Description  Rating      Location  \\\n",
       "0  Are you eager to roll up your sleeves and harn...     3.2  New York, NY   \n",
       "1  Overview\\n\\nProvides analytical and technical ...     3.8  New York, NY   \n",
       "2  We’re looking for a Senior Data Analyst who ha...     3.4  New York, NY   \n",
       "3  Requisition NumberRR-0001939\\nRemote:Yes\\nWe c...     4.1  New York, NY   \n",
       "4  ABOUT FANDUEL GROUP\\n\\nFanDuel Group is a worl...     3.9  New York, NY   \n",
       "\n",
       "                     Size  Founded                            Sector  \n",
       "0    201 to 500 employees   1961.0                        Non-Profit  \n",
       "1        10000+ employees   1893.0                       Health Care  \n",
       "2  1001 to 5000 employees   2003.0            Information Technology  \n",
       "3    201 to 500 employees   2002.0            Information Technology  \n",
       "4   501 to 1000 employees   2009.0  Arts, Entertainment & Recreation  "
      ]
     },
     "execution_count": 9,
     "metadata": {},
     "output_type": "execute_result"
    }
   ],
   "source": [
    "for i in range(len(df['Salary Estimate'])):\n",
    "    text = df.iloc[i, 2]\n",
    "    new_vals = re.findall('[0-9]+𝐾*', text)\n",
    "    new_vals = list(map(int, new_vals))\n",
    "    new_mean = np.mean(new_vals)\n",
    "    df.iloc[i, 2] = new_mean\n",
    "    \n",
    "df.head()"
   ]
  },
  {
   "cell_type": "code",
   "execution_count": 18,
   "id": "e0a94789",
   "metadata": {},
   "outputs": [
    {
     "data": {
      "text/plain": [
       "Data Analyst                            333\n",
       "Senior Data Analyst                      77\n",
       "Junior Data Analyst                      30\n",
       "Business Data Analyst                    25\n",
       "Data Quality Analyst                     17\n",
       "Sr. Data Analyst                         17\n",
       "Data Analyst Junior                      17\n",
       "Data Analyst II                          14\n",
       "Lead Data Analyst                        13\n",
       "Data Governance Analyst                  13\n",
       "Data Reporting Analyst                   12\n",
       "Data Analyst I                           10\n",
       "Data Analyst III                         10\n",
       "Financial Data Analyst                    9\n",
       "Sr Data Analyst                           9\n",
       "Marketing Data Analyst                    7\n",
       "SQL Data Analyst                          7\n",
       "Data Management Analyst                   7\n",
       "Data Warehouse Analyst                    6\n",
       "Data Security Analyst                     6\n",
       "Technical Data Analyst                    6\n",
       "Clinical Data Analyst                     5\n",
       "Product Data Analyst                      5\n",
       "NY Healthcare Data/Reporting Analyst      5\n",
       "Quality Data Analyst                      4\n",
       "Name: Job Title, dtype: int64"
      ]
     },
     "execution_count": 18,
     "metadata": {},
     "output_type": "execute_result"
    }
   ],
   "source": [
    "df['Job Title'].value_counts()[:25]"
   ]
  },
  {
   "cell_type": "code",
   "execution_count": null,
   "id": "778ef5ad",
   "metadata": {},
   "outputs": [],
   "source": []
  }
 ],
 "metadata": {
  "kernelspec": {
   "display_name": "Python 3 (ipykernel)",
   "language": "python",
   "name": "python3"
  },
  "language_info": {
   "codemirror_mode": {
    "name": "ipython",
    "version": 3
   },
   "file_extension": ".py",
   "mimetype": "text/x-python",
   "name": "python",
   "nbconvert_exporter": "python",
   "pygments_lexer": "ipython3",
   "version": "3.10.1"
  }
 },
 "nbformat": 4,
 "nbformat_minor": 5
}
