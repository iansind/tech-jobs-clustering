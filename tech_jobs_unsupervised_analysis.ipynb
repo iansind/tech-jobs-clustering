{
 "cells": [
  {
   "cell_type": "markdown",
   "id": "fa0d19c5",
   "metadata": {},
   "source": [
    "# Unsupervised Learning Analysis of Data Analyst Job Postings\n",
    "\n",
    "Job seekers often have many decisions to make in preparing themselves for the market. Of these many considerations, a couple may be honing particular skills or seeking out particular types of jobs based on salary expectations. This analysis aims to use unsupervised learning tools as well as data exploration to assess some of the areas that job seekers may be interested in focusing on. \n",
    "\n",
    "The dataset was sourced from Kaggle [[1](#references)] and consists of data analyst job postings, with attributes including title, job description, rating, and salary estimate. The primary information that was sought after in this assessment was influence of various factors, especially job description, on salary. \n",
    "\n",
    "The dataset first needed to be cleaned to impute some missing attribute variables as well as convert some of the data into a more usable format. Exploratory data analysis was performed to assist this cleaning, as well as to observe some interesting trends in the data. Finally, several machine learning approaches were applied to the dataset in order to extract potentially useful knowledge of the dataset, such as clusters or predictions.\n",
    "\n",
    "The initialization of this assessment begins with loading in the dataset and taking a look at its intial state."
   ]
  },
  {
   "cell_type": "code",
   "execution_count": 1,
   "id": "50c82577",
   "metadata": {},
   "outputs": [],
   "source": [
    "import pandas as pd\n",
    "import numpy as np\n",
    "import re\n",
    "from datetime import datetime\n",
    "from kmodes.kmodes import KModes\n",
    "import matplotlib.pyplot as plt\n",
    "import seaborn as sn\n",
    "from sklearn.feature_extraction.text import TfidfVectorizer\n",
    "from sklearn.decomposition import NMF\n",
    "from sklearn.model_selection import train_test_split\n",
    "import itertools\n",
    "from sklearn.linear_model import LinearRegression\n",
    "from sklearn.metrics import r2_score\n",
    "from sklearn.metrics import accuracy_score\n",
    "from sklearn.naive_bayes import ComplementNB"
   ]
  },
  {
   "cell_type": "code",
   "execution_count": 2,
   "id": "75afbe25",
   "metadata": {},
   "outputs": [
    {
     "data": {
      "text/html": [
       "<div>\n",
       "<style scoped>\n",
       "    .dataframe tbody tr th:only-of-type {\n",
       "        vertical-align: middle;\n",
       "    }\n",
       "\n",
       "    .dataframe tbody tr th {\n",
       "        vertical-align: top;\n",
       "    }\n",
       "\n",
       "    .dataframe thead th {\n",
       "        text-align: right;\n",
       "    }\n",
       "</style>\n",
       "<table border=\"1\" class=\"dataframe\">\n",
       "  <thead>\n",
       "    <tr style=\"text-align: right;\">\n",
       "      <th></th>\n",
       "      <th>Unnamed: 0</th>\n",
       "      <th>Job Title</th>\n",
       "      <th>Salary Estimate</th>\n",
       "      <th>Job Description</th>\n",
       "      <th>Rating</th>\n",
       "      <th>Company Name</th>\n",
       "      <th>Location</th>\n",
       "      <th>Headquarters</th>\n",
       "      <th>Size</th>\n",
       "      <th>Founded</th>\n",
       "      <th>Type of ownership</th>\n",
       "      <th>Industry</th>\n",
       "      <th>Sector</th>\n",
       "      <th>Revenue</th>\n",
       "      <th>Competitors</th>\n",
       "      <th>Easy Apply</th>\n",
       "    </tr>\n",
       "  </thead>\n",
       "  <tbody>\n",
       "    <tr>\n",
       "      <th>0</th>\n",
       "      <td>0</td>\n",
       "      <td>Data Analyst, Center on Immigration and Justic...</td>\n",
       "      <td>$37K-$66K (Glassdoor est.)</td>\n",
       "      <td>Are you eager to roll up your sleeves and harn...</td>\n",
       "      <td>3.2</td>\n",
       "      <td>Vera Institute of Justice\\n3.2</td>\n",
       "      <td>New York, NY</td>\n",
       "      <td>New York, NY</td>\n",
       "      <td>201 to 500 employees</td>\n",
       "      <td>1961</td>\n",
       "      <td>Nonprofit Organization</td>\n",
       "      <td>Social Assistance</td>\n",
       "      <td>Non-Profit</td>\n",
       "      <td>$100 to $500 million (USD)</td>\n",
       "      <td>-1</td>\n",
       "      <td>True</td>\n",
       "    </tr>\n",
       "    <tr>\n",
       "      <th>1</th>\n",
       "      <td>1</td>\n",
       "      <td>Quality Data Analyst</td>\n",
       "      <td>$37K-$66K (Glassdoor est.)</td>\n",
       "      <td>Overview\\n\\nProvides analytical and technical ...</td>\n",
       "      <td>3.8</td>\n",
       "      <td>Visiting Nurse Service of New York\\n3.8</td>\n",
       "      <td>New York, NY</td>\n",
       "      <td>New York, NY</td>\n",
       "      <td>10000+ employees</td>\n",
       "      <td>1893</td>\n",
       "      <td>Nonprofit Organization</td>\n",
       "      <td>Health Care Services &amp; Hospitals</td>\n",
       "      <td>Health Care</td>\n",
       "      <td>$2 to $5 billion (USD)</td>\n",
       "      <td>-1</td>\n",
       "      <td>-1</td>\n",
       "    </tr>\n",
       "    <tr>\n",
       "      <th>2</th>\n",
       "      <td>2</td>\n",
       "      <td>Senior Data Analyst, Insights &amp; Analytics Team...</td>\n",
       "      <td>$37K-$66K (Glassdoor est.)</td>\n",
       "      <td>We’re looking for a Senior Data Analyst who ha...</td>\n",
       "      <td>3.4</td>\n",
       "      <td>Squarespace\\n3.4</td>\n",
       "      <td>New York, NY</td>\n",
       "      <td>New York, NY</td>\n",
       "      <td>1001 to 5000 employees</td>\n",
       "      <td>2003</td>\n",
       "      <td>Company - Private</td>\n",
       "      <td>Internet</td>\n",
       "      <td>Information Technology</td>\n",
       "      <td>Unknown / Non-Applicable</td>\n",
       "      <td>GoDaddy</td>\n",
       "      <td>-1</td>\n",
       "    </tr>\n",
       "    <tr>\n",
       "      <th>3</th>\n",
       "      <td>3</td>\n",
       "      <td>Data Analyst</td>\n",
       "      <td>$37K-$66K (Glassdoor est.)</td>\n",
       "      <td>Requisition NumberRR-0001939\\nRemote:Yes\\nWe c...</td>\n",
       "      <td>4.1</td>\n",
       "      <td>Celerity\\n4.1</td>\n",
       "      <td>New York, NY</td>\n",
       "      <td>McLean, VA</td>\n",
       "      <td>201 to 500 employees</td>\n",
       "      <td>2002</td>\n",
       "      <td>Subsidiary or Business Segment</td>\n",
       "      <td>IT Services</td>\n",
       "      <td>Information Technology</td>\n",
       "      <td>$50 to $100 million (USD)</td>\n",
       "      <td>-1</td>\n",
       "      <td>-1</td>\n",
       "    </tr>\n",
       "    <tr>\n",
       "      <th>4</th>\n",
       "      <td>4</td>\n",
       "      <td>Reporting Data Analyst</td>\n",
       "      <td>$37K-$66K (Glassdoor est.)</td>\n",
       "      <td>ABOUT FANDUEL GROUP\\n\\nFanDuel Group is a worl...</td>\n",
       "      <td>3.9</td>\n",
       "      <td>FanDuel\\n3.9</td>\n",
       "      <td>New York, NY</td>\n",
       "      <td>New York, NY</td>\n",
       "      <td>501 to 1000 employees</td>\n",
       "      <td>2009</td>\n",
       "      <td>Company - Private</td>\n",
       "      <td>Sports &amp; Recreation</td>\n",
       "      <td>Arts, Entertainment &amp; Recreation</td>\n",
       "      <td>$100 to $500 million (USD)</td>\n",
       "      <td>DraftKings</td>\n",
       "      <td>True</td>\n",
       "    </tr>\n",
       "  </tbody>\n",
       "</table>\n",
       "</div>"
      ],
      "text/plain": [
       "   Unnamed: 0                                          Job Title  \\\n",
       "0           0  Data Analyst, Center on Immigration and Justic...   \n",
       "1           1                               Quality Data Analyst   \n",
       "2           2  Senior Data Analyst, Insights & Analytics Team...   \n",
       "3           3                                       Data Analyst   \n",
       "4           4                             Reporting Data Analyst   \n",
       "\n",
       "              Salary Estimate  \\\n",
       "0  $37K-$66K (Glassdoor est.)   \n",
       "1  $37K-$66K (Glassdoor est.)   \n",
       "2  $37K-$66K (Glassdoor est.)   \n",
       "3  $37K-$66K (Glassdoor est.)   \n",
       "4  $37K-$66K (Glassdoor est.)   \n",
       "\n",
       "                                     Job Description  Rating  \\\n",
       "0  Are you eager to roll up your sleeves and harn...     3.2   \n",
       "1  Overview\\n\\nProvides analytical and technical ...     3.8   \n",
       "2  We’re looking for a Senior Data Analyst who ha...     3.4   \n",
       "3  Requisition NumberRR-0001939\\nRemote:Yes\\nWe c...     4.1   \n",
       "4  ABOUT FANDUEL GROUP\\n\\nFanDuel Group is a worl...     3.9   \n",
       "\n",
       "                              Company Name      Location  Headquarters  \\\n",
       "0           Vera Institute of Justice\\n3.2  New York, NY  New York, NY   \n",
       "1  Visiting Nurse Service of New York\\n3.8  New York, NY  New York, NY   \n",
       "2                         Squarespace\\n3.4  New York, NY  New York, NY   \n",
       "3                            Celerity\\n4.1  New York, NY    McLean, VA   \n",
       "4                             FanDuel\\n3.9  New York, NY  New York, NY   \n",
       "\n",
       "                     Size  Founded               Type of ownership  \\\n",
       "0    201 to 500 employees     1961          Nonprofit Organization   \n",
       "1        10000+ employees     1893          Nonprofit Organization   \n",
       "2  1001 to 5000 employees     2003               Company - Private   \n",
       "3    201 to 500 employees     2002  Subsidiary or Business Segment   \n",
       "4   501 to 1000 employees     2009               Company - Private   \n",
       "\n",
       "                           Industry                            Sector  \\\n",
       "0                 Social Assistance                        Non-Profit   \n",
       "1  Health Care Services & Hospitals                       Health Care   \n",
       "2                          Internet            Information Technology   \n",
       "3                       IT Services            Information Technology   \n",
       "4               Sports & Recreation  Arts, Entertainment & Recreation   \n",
       "\n",
       "                      Revenue Competitors Easy Apply  \n",
       "0  $100 to $500 million (USD)          -1       True  \n",
       "1      $2 to $5 billion (USD)          -1         -1  \n",
       "2    Unknown / Non-Applicable     GoDaddy         -1  \n",
       "3   $50 to $100 million (USD)          -1         -1  \n",
       "4  $100 to $500 million (USD)  DraftKings       True  "
      ]
     },
     "execution_count": 2,
     "metadata": {},
     "output_type": "execute_result"
    }
   ],
   "source": [
    "df = pd.read_csv('DataAnalyst.csv')\n",
    "df.head()"
   ]
  },
  {
   "cell_type": "markdown",
   "id": "6ea94266",
   "metadata": {},
   "source": [
    "## Cleaning the Dataset\n",
    "\n",
    "In this dataset, null values are indicated by a \"-1\". Since this won't show up as a null value during data exploration, all values equalling -1 will be converted to NaNs. This will allow for better handling of these missing values down the line. \n",
    "\n",
    "After this replacement, it can be observed that there are many null values present in this dataset. This will be addressed by dropping problematic attributes, imputing the null values, or dropping the null rows."
   ]
  },
  {
   "cell_type": "code",
   "execution_count": 3,
   "id": "2387c444",
   "metadata": {},
   "outputs": [
    {
     "name": "stdout",
     "output_type": "stream",
     "text": [
      "<class 'pandas.core.frame.DataFrame'>\n",
      "RangeIndex: 2253 entries, 0 to 2252\n",
      "Data columns (total 16 columns):\n",
      " #   Column             Non-Null Count  Dtype \n",
      "---  ------             --------------  ----- \n",
      " 0   Unnamed: 0         2253 non-null   int64 \n",
      " 1   Job Title          2253 non-null   object\n",
      " 2   Salary Estimate    2252 non-null   object\n",
      " 3   Job Description    2253 non-null   object\n",
      " 4   Rating             1981 non-null   object\n",
      " 5   Company Name       2252 non-null   object\n",
      " 6   Location           2253 non-null   object\n",
      " 7   Headquarters       2081 non-null   object\n",
      " 8   Size               2048 non-null   object\n",
      " 9   Founded            1593 non-null   object\n",
      " 10  Type of ownership  2074 non-null   object\n",
      " 11  Industry           1900 non-null   object\n",
      " 12  Sector             1900 non-null   object\n",
      " 13  Revenue            2090 non-null   object\n",
      " 14  Competitors        521 non-null    object\n",
      " 15  Easy Apply         80 non-null     object\n",
      "dtypes: int64(1), object(15)\n",
      "memory usage: 281.8+ KB\n"
     ]
    }
   ],
   "source": [
    "# -1 values are present both as ints and strings. There are also some \"unknown\" values.\n",
    "vals_to_replace = [-1, '-1', 'Unknown']\n",
    "df.replace(vals_to_replace, None, inplace=True)\n",
    "df.info()"
   ]
  },
  {
   "cell_type": "code",
   "execution_count": 4,
   "id": "e5a0e7ac",
   "metadata": {},
   "outputs": [
    {
     "data": {
      "text/plain": [
       "IT Services                            325\n",
       "Staffing & Outsourcing                 323\n",
       "Health Care Services & Hospitals       151\n",
       "Computer Hardware & Software           111\n",
       "Consulting                             111\n",
       "                                      ... \n",
       "Truck Rental & Leasing                   1\n",
       "News Outlet                              1\n",
       "Catering & Food Service Contractors      1\n",
       "Chemical Manufacturing                   1\n",
       "Hotels, Motels, & Resorts                1\n",
       "Name: Industry, Length: 88, dtype: int64"
      ]
     },
     "execution_count": 4,
     "metadata": {},
     "output_type": "execute_result"
    }
   ],
   "source": [
    "# Sample of attribute exploration. This has been performed for all features, but only one sample attribute has been kept\n",
    "# as to reduce the amount of space taken up by this step of the analysis. \n",
    "df['Industry'].value_counts()"
   ]
  },
  {
   "attachments": {},
   "cell_type": "markdown",
   "id": "11511028",
   "metadata": {},
   "source": [
    "The attributes \"Competitors\" and \"Easy Apply\" will be dropped, as they contain mostly null values and are of little interest to this assessment. \n",
    "\n",
    "Moving forward, this analysis will make the presumption that job seekers generally care about some of these remaining attributes far more than others. The goal in this feature selection will be to best map this preference in an actionable way. The additional attributes that will be dropped are:\n",
    "- \"Company Name\": important to the job seeker, but not useful in clustering when there are no associated company features by which to compare companies to each other. \n",
    "- \"Headquarters\": Most job seekers likely do not hold strong preferences here.\n",
    "- \"Type of ownership\": Heavily imbalanced and usually of relatively little consideration.\n",
    "- \"Revenue\": A plurality of these are unknown, and startup status will be captured by other features. \n",
    "\n",
    "The follow attributes will be reworked into new ones:\n",
    "- \"Unnamed: 0\": Will be renamed as \"Job ID\" for the purpose of this analysis. \n",
    "- \"Job Title\": Will need to be reduced into more easily useable bins, as many job titles are tantamount to each other and differ primarily in a semantic sense. \n",
    "- \"Salary Estimate\": Will be converted into a more useable numeric format consisting of the median between the two values.\n",
    "- \"Job Description\": Will be vectorized as to be useable by data analysis tools.\n",
    "- \"Founded\": Will be converted to \"Company Age\", then binned. This should be useful as job seekers likely have a preference in working for a recent startup or not. \n",
    "\n",
    "The 'Industry' attribute is a special case. While it could be rather useful, it is highly obfuscated by the fact that many jobs are listed through staffing agencies that are irrelevant to the job itself. Additionally, the \"Sector\" attribute already captures much of the desired information of this type. However, it will be useful to keep this attribute around in order to differentiate between jobs posted via a staffing agency and jobs posted otherwise. Therefore, null values in this column will simply be imputed with the attribute mode of \"IT Services\"."
   ]
  },
  {
   "cell_type": "code",
   "execution_count": 5,
   "id": "3f3f8528",
   "metadata": {},
   "outputs": [
    {
     "name": "stdout",
     "output_type": "stream",
     "text": [
      "<class 'pandas.core.frame.DataFrame'>\n",
      "RangeIndex: 2253 entries, 0 to 2252\n",
      "Data columns (total 10 columns):\n",
      " #   Column           Non-Null Count  Dtype \n",
      "---  ------           --------------  ----- \n",
      " 0   Job ID           2253 non-null   int64 \n",
      " 1   Job Title        2253 non-null   object\n",
      " 2   Salary Estimate  2252 non-null   object\n",
      " 3   Job Description  2253 non-null   object\n",
      " 4   Rating           1981 non-null   object\n",
      " 5   Location         2253 non-null   object\n",
      " 6   Size             2048 non-null   object\n",
      " 7   Founded          1593 non-null   object\n",
      " 8   Industry         2253 non-null   object\n",
      " 9   Sector           1900 non-null   object\n",
      "dtypes: int64(1), object(9)\n",
      "memory usage: 176.1+ KB\n"
     ]
    }
   ],
   "source": [
    "# Dropping the unnecessary columns\n",
    "cols_to_drop = ['Competitors', 'Easy Apply', 'Company Name', 'Headquarters', 'Type of ownership', 'Revenue']\n",
    "df.drop(cols_to_drop, axis=1, inplace=True)\n",
    "\n",
    "# Renaming the ID column\n",
    "df.rename(columns={'Unnamed: 0': 'Job ID'}, inplace=True)\n",
    "\n",
    "# Filling the null values in the 'Industry' column with the mode.\n",
    "df['Industry'].fillna('IT Services', inplace=True)\n",
    "\n",
    "df.info()"
   ]
  },
  {
   "cell_type": "markdown",
   "id": "554887e0",
   "metadata": {},
   "source": [
    "Since the 'Founded' attributes contains significantly more null values than the other columns, the null values will be imputed with the attribute median. The median is used in this case to account for the skew of the data, represented in the histogram below. \n",
    "\n",
    "Other values that are straightforward to impute, such as the numeric values of 'Rating', will be similarly handled. "
   ]
  },
  {
   "cell_type": "code",
   "execution_count": 6,
   "id": "49e894aa",
   "metadata": {},
   "outputs": [
    {
     "data": {
      "text/plain": [
       "<AxesSubplot: title={'center': 'Year Founded'}, ylabel='Frequency'>"
      ]
     },
     "execution_count": 6,
     "metadata": {},
     "output_type": "execute_result"
    },
    {
     "data": {
      "image/png": "[encoded data removed]",
      "text/plain": [
       "<Figure size 640x480 with 1 Axes>"
      ]
     },
     "metadata": {},
     "output_type": "display_data"
    }
   ],
   "source": [
    "df['Founded'].plot(kind='hist', title='Year Founded')"
   ]
  },
  {
   "cell_type": "code",
   "execution_count": 7,
   "id": "c34920d9",
   "metadata": {},
   "outputs": [
    {
     "data": {
      "text/plain": [
       "<AxesSubplot: title={'center': 'Rating'}, ylabel='Frequency'>"
      ]
     },
     "execution_count": 7,
     "metadata": {},
     "output_type": "execute_result"
    },
    {
     "data": {
      "image/png": "[encoded data removed]",
      "text/plain": [
       "<Figure size 640x480 with 1 Axes>"
      ]
     },
     "metadata": {},
     "output_type": "display_data"
    }
   ],
   "source": [
    "df['Rating'].plot(kind='hist', title='Rating')"
   ]
  },
  {
   "cell_type": "code",
   "execution_count": 8,
   "id": "28f1937a",
   "metadata": {},
   "outputs": [
    {
     "name": "stdout",
     "output_type": "stream",
     "text": [
      "<class 'pandas.core.frame.DataFrame'>\n",
      "Int64Index: 1891 entries, 0 to 2252\n",
      "Data columns (total 10 columns):\n",
      " #   Column           Non-Null Count  Dtype  \n",
      "---  ------           --------------  -----  \n",
      " 0   Job ID           1891 non-null   int64  \n",
      " 1   Job Title        1891 non-null   object \n",
      " 2   Salary Estimate  1891 non-null   object \n",
      " 3   Job Description  1891 non-null   object \n",
      " 4   Rating           1891 non-null   float64\n",
      " 5   Location         1891 non-null   object \n",
      " 6   Size             1891 non-null   object \n",
      " 7   Founded          1891 non-null   float64\n",
      " 8   Industry         1891 non-null   object \n",
      " 9   Sector           1891 non-null   object \n",
      "dtypes: float64(2), int64(1), object(7)\n",
      "memory usage: 162.5+ KB\n"
     ]
    }
   ],
   "source": [
    "df['Founded'].fillna(df['Founded'].median(), inplace=True)\n",
    "df['Rating'].fillna(df['Rating'].median(), inplace=True)\n",
    "df.dropna(inplace=True)\n",
    "df.info()"
   ]
  },
  {
   "cell_type": "markdown",
   "id": "85d4fcd0",
   "metadata": {},
   "source": [
    "Dropping the null values after imputation results in a mere 16% reduction of the dataset vs 31% that would be the case without the imputation.\n",
    "\n",
    "Next, values in 'Salary Estimate' will be replaced with the mean of their range, as they are not usable in their string format. Splitting the range into two attributes would also be possible, but a single mean attribute will be cleaner and more useable. \n",
    "\n",
    "A function will loop through the database here rather than using the generally preferred Pandas 'apply' function or similar. This is because the function that needs to be applied is rather complex, and the dataframe only requires one looping. Regular expressions will be used to extract the desired information from the string. "
   ]
  },
  {
   "cell_type": "code",
   "execution_count": 9,
   "id": "b8f2a60b",
   "metadata": {},
   "outputs": [
    {
     "data": {
      "text/html": [
       "<div>\n",
       "<style scoped>\n",
       "    .dataframe tbody tr th:only-of-type {\n",
       "        vertical-align: middle;\n",
       "    }\n",
       "\n",
       "    .dataframe tbody tr th {\n",
       "        vertical-align: top;\n",
       "    }\n",
       "\n",
       "    .dataframe thead th {\n",
       "        text-align: right;\n",
       "    }\n",
       "</style>\n",
       "<table border=\"1\" class=\"dataframe\">\n",
       "  <thead>\n",
       "    <tr style=\"text-align: right;\">\n",
       "      <th></th>\n",
       "      <th>Job ID</th>\n",
       "      <th>Job Title</th>\n",
       "      <th>Salary Estimate</th>\n",
       "      <th>Job Description</th>\n",
       "      <th>Rating</th>\n",
       "      <th>Location</th>\n",
       "      <th>Size</th>\n",
       "      <th>Founded</th>\n",
       "      <th>Industry</th>\n",
       "      <th>Sector</th>\n",
       "    </tr>\n",
       "  </thead>\n",
       "  <tbody>\n",
       "    <tr>\n",
       "      <th>0</th>\n",
       "      <td>0</td>\n",
       "      <td>Data Analyst, Center on Immigration and Justic...</td>\n",
       "      <td>51500.0</td>\n",
       "      <td>Are you eager to roll up your sleeves and harn...</td>\n",
       "      <td>3.2</td>\n",
       "      <td>New York, NY</td>\n",
       "      <td>201 to 500 employees</td>\n",
       "      <td>1961.0</td>\n",
       "      <td>Social Assistance</td>\n",
       "      <td>Non-Profit</td>\n",
       "    </tr>\n",
       "    <tr>\n",
       "      <th>1</th>\n",
       "      <td>1</td>\n",
       "      <td>Quality Data Analyst</td>\n",
       "      <td>51500.0</td>\n",
       "      <td>Overview\\n\\nProvides analytical and technical ...</td>\n",
       "      <td>3.8</td>\n",
       "      <td>New York, NY</td>\n",
       "      <td>10000+ employees</td>\n",
       "      <td>1893.0</td>\n",
       "      <td>Health Care Services &amp; Hospitals</td>\n",
       "      <td>Health Care</td>\n",
       "    </tr>\n",
       "    <tr>\n",
       "      <th>2</th>\n",
       "      <td>2</td>\n",
       "      <td>Senior Data Analyst, Insights &amp; Analytics Team...</td>\n",
       "      <td>51500.0</td>\n",
       "      <td>We’re looking for a Senior Data Analyst who ha...</td>\n",
       "      <td>3.4</td>\n",
       "      <td>New York, NY</td>\n",
       "      <td>1001 to 5000 employees</td>\n",
       "      <td>2003.0</td>\n",
       "      <td>Internet</td>\n",
       "      <td>Information Technology</td>\n",
       "    </tr>\n",
       "    <tr>\n",
       "      <th>3</th>\n",
       "      <td>3</td>\n",
       "      <td>Data Analyst</td>\n",
       "      <td>51500.0</td>\n",
       "      <td>Requisition NumberRR-0001939\\nRemote:Yes\\nWe c...</td>\n",
       "      <td>4.1</td>\n",
       "      <td>New York, NY</td>\n",
       "      <td>201 to 500 employees</td>\n",
       "      <td>2002.0</td>\n",
       "      <td>IT Services</td>\n",
       "      <td>Information Technology</td>\n",
       "    </tr>\n",
       "    <tr>\n",
       "      <th>4</th>\n",
       "      <td>4</td>\n",
       "      <td>Reporting Data Analyst</td>\n",
       "      <td>51500.0</td>\n",
       "      <td>ABOUT FANDUEL GROUP\\n\\nFanDuel Group is a worl...</td>\n",
       "      <td>3.9</td>\n",
       "      <td>New York, NY</td>\n",
       "      <td>501 to 1000 employees</td>\n",
       "      <td>2009.0</td>\n",
       "      <td>Sports &amp; Recreation</td>\n",
       "      <td>Arts, Entertainment &amp; Recreation</td>\n",
       "    </tr>\n",
       "  </tbody>\n",
       "</table>\n",
       "</div>"
      ],
      "text/plain": [
       "   Job ID                                          Job Title  Salary Estimate  \\\n",
       "0       0  Data Analyst, Center on Immigration and Justic...          51500.0   \n",
       "1       1                               Quality Data Analyst          51500.0   \n",
       "2       2  Senior Data Analyst, Insights & Analytics Team...          51500.0   \n",
       "3       3                                       Data Analyst          51500.0   \n",
       "4       4                             Reporting Data Analyst          51500.0   \n",
       "\n",
       "                                     Job Description  Rating      Location  \\\n",
       "0  Are you eager to roll up your sleeves and harn...     3.2  New York, NY   \n",
       "1  Overview\\n\\nProvides analytical and technical ...     3.8  New York, NY   \n",
       "2  We’re looking for a Senior Data Analyst who ha...     3.4  New York, NY   \n",
       "3  Requisition NumberRR-0001939\\nRemote:Yes\\nWe c...     4.1  New York, NY   \n",
       "4  ABOUT FANDUEL GROUP\\n\\nFanDuel Group is a worl...     3.9  New York, NY   \n",
       "\n",
       "                     Size  Founded                          Industry  \\\n",
       "0    201 to 500 employees   1961.0                 Social Assistance   \n",
       "1        10000+ employees   1893.0  Health Care Services & Hospitals   \n",
       "2  1001 to 5000 employees   2003.0                          Internet   \n",
       "3    201 to 500 employees   2002.0                       IT Services   \n",
       "4   501 to 1000 employees   2009.0               Sports & Recreation   \n",
       "\n",
       "                             Sector  \n",
       "0                        Non-Profit  \n",
       "1                       Health Care  \n",
       "2            Information Technology  \n",
       "3            Information Technology  \n",
       "4  Arts, Entertainment & Recreation  "
      ]
     },
     "execution_count": 9,
     "metadata": {},
     "output_type": "execute_result"
    }
   ],
   "source": [
    "# Converts the strings of salary estimates to a more useable mean. \n",
    "def salary_averager(text):\n",
    "    new_vals = re.findall('[0-9]+𝐾*', text)\n",
    "    new_vals = list(map(int, new_vals))\n",
    "    new_mean = np.mean(new_vals)\n",
    "    return new_mean * 1000\n",
    "\n",
    "df['Salary Estimate'] = df['Salary Estimate'].apply(salary_averager)\n",
    "df.head()"
   ]
  },
  {
   "cell_type": "markdown",
   "id": "a202ea8b",
   "metadata": {},
   "source": [
    "As seen above, 'Salary Estimate' values have been successfully replaced. Below, a distribution is shown alongside some key metrics."
   ]
  },
  {
   "cell_type": "code",
   "execution_count": 10,
   "id": "7354e8d0",
   "metadata": {},
   "outputs": [
    {
     "name": "stdout",
     "output_type": "stream",
     "text": [
      "Average Salary: 72012.0\n",
      "Median Salary: 68500.0\n"
     ]
    },
    {
     "data": {
      "image/png": "[encoded data removed]",
      "text/plain": [
       "<Figure size 640x480 with 1 Axes>"
      ]
     },
     "metadata": {},
     "output_type": "display_data"
    }
   ],
   "source": [
    "sal_plot = df['Salary Estimate'].plot(kind='hist', title='Data Analyst Salaries', bins=15)\n",
    "sal_plot.set_xlabel('Salary Estimate ($)')\n",
    "sal_mean = df['Salary Estimate'].mean()\n",
    "sal_med = df['Salary Estimate'].median()\n",
    "print(f'Average Salary: {np.round(sal_mean)}\\nMedian Salary: {sal_med}')"
   ]
  },
  {
   "cell_type": "markdown",
   "id": "a7366d4b",
   "metadata": {},
   "source": [
    "Moving onto 'Job Title', the below list gives the 25 most frequent job titles. The primary keywords indicating seniority are used to remap the values of the column into a binary senior/non-senior variable. This removes particularities of naming conventions and makes jobs more comparable. The is a risk here that the non-senior title also contains senior positions, but this is mitigated by the fact that the imputed senior title should be very pure. "
   ]
  },
  {
   "cell_type": "code",
   "execution_count": 11,
   "id": "54588971",
   "metadata": {},
   "outputs": [
    {
     "data": {
      "text/plain": [
       "Data Analyst                            333\n",
       "Senior Data Analyst                      77\n",
       "Junior Data Analyst                      30\n",
       "Business Data Analyst                    25\n",
       "Data Analyst Junior                      17\n",
       "Sr. Data Analyst                         17\n",
       "Data Quality Analyst                     17\n",
       "Data Analyst II                          14\n",
       "Lead Data Analyst                        13\n",
       "Data Governance Analyst                  13\n",
       "Data Reporting Analyst                   12\n",
       "Data Analyst I                           10\n",
       "Data Analyst III                         10\n",
       "Sr Data Analyst                           9\n",
       "Financial Data Analyst                    9\n",
       "Marketing Data Analyst                    7\n",
       "SQL Data Analyst                          7\n",
       "Data Management Analyst                   7\n",
       "Data Security Analyst                     6\n",
       "Data Warehouse Analyst                    6\n",
       "Technical Data Analyst                    6\n",
       "Clinical Data Analyst                     5\n",
       "Product Data Analyst                      5\n",
       "NY Healthcare Data/Reporting Analyst      4\n",
       "Data Base Programmer/Analyst              4\n",
       "Name: Job Title, dtype: int64"
      ]
     },
     "execution_count": 11,
     "metadata": {},
     "output_type": "execute_result"
    }
   ],
   "source": [
    "df['Job Title'].value_counts()[:25]"
   ]
  },
  {
   "cell_type": "code",
   "execution_count": 12,
   "id": "bdfc14ba",
   "metadata": {},
   "outputs": [
    {
     "data": {
      "text/plain": [
       "0    1465\n",
       "1     426\n",
       "Name: Senior Position, dtype: int64"
      ]
     },
     "execution_count": 12,
     "metadata": {},
     "output_type": "execute_result"
    }
   ],
   "source": [
    "sr_titles = ['senior', 'sr', 'ii', 'iii', '2', '3']\n",
    "\n",
    "# Removes puncuation from job title, converts to lowercase, and splits into a list of individual words. \n",
    "df['Job Title'] = df['Job Title'].str.replace(r'[^\\w\\s]+', '', regex=True)\n",
    "df['Job Title'] = df['Job Title'].str.lower()\n",
    "df['Job Title'] = df['Job Title'].str.split(' ')\n",
    "\n",
    "# Checks if a keyword denoting seniority is present and replaces title with one of two values.\n",
    "df['Job Title'] = df['Job Title'].apply(lambda x: 1 if [i for i in x if i in sr_titles] else 0)\n",
    "\n",
    "# Renaming to account for a boolean variable\n",
    "df.rename(columns={'Job Title': 'Senior Position'}, inplace=True)\n",
    "df['Senior Position'].value_counts()"
   ]
  },
  {
   "cell_type": "code",
   "execution_count": 13,
   "id": "cd7c1455",
   "metadata": {},
   "outputs": [
    {
     "data": {
      "text/plain": [
       "Senior Position\n",
       "0    71386.006826\n",
       "1    74163.145540\n",
       "Name: Salary Estimate, dtype: float64"
      ]
     },
     "execution_count": 13,
     "metadata": {},
     "output_type": "execute_result"
    }
   ],
   "source": [
    "# Calculation of average salaries for positions labeled senior or otherwise. \n",
    "df.groupby('Senior Position')['Salary Estimate'].mean()"
   ]
  },
  {
   "cell_type": "markdown",
   "id": "549afae6",
   "metadata": {},
   "source": [
    "It can be seen above that a position indicated as senior makes only slightly more than otherwise. This is likely because many positions within the more general data analyst titles require levels of seniority that are not necessarily reflected in the title.\n",
    "\n",
    "For the next step in cleaning the dataset, the attribute \"Founded\" will be converted to company age.\n",
    "\n",
    "Additionally, location will be reduced to a simple state category rather than specifying the city. This will reduce the granularity, but that will likely be more useful given that the dataset is not large enough to make use of higher granularity. "
   ]
  },
  {
   "cell_type": "code",
   "execution_count": 14,
   "id": "f13a63ac",
   "metadata": {},
   "outputs": [
    {
     "data": {
      "text/html": [
       "<div>\n",
       "<style scoped>\n",
       "    .dataframe tbody tr th:only-of-type {\n",
       "        vertical-align: middle;\n",
       "    }\n",
       "\n",
       "    .dataframe tbody tr th {\n",
       "        vertical-align: top;\n",
       "    }\n",
       "\n",
       "    .dataframe thead th {\n",
       "        text-align: right;\n",
       "    }\n",
       "</style>\n",
       "<table border=\"1\" class=\"dataframe\">\n",
       "  <thead>\n",
       "    <tr style=\"text-align: right;\">\n",
       "      <th></th>\n",
       "      <th>Job ID</th>\n",
       "      <th>Senior Position</th>\n",
       "      <th>Salary Estimate</th>\n",
       "      <th>Job Description</th>\n",
       "      <th>Rating</th>\n",
       "      <th>Location</th>\n",
       "      <th>Size</th>\n",
       "      <th>Company Age</th>\n",
       "      <th>Industry</th>\n",
       "      <th>Sector</th>\n",
       "    </tr>\n",
       "  </thead>\n",
       "  <tbody>\n",
       "    <tr>\n",
       "      <th>0</th>\n",
       "      <td>0</td>\n",
       "      <td>0</td>\n",
       "      <td>51500.0</td>\n",
       "      <td>Are you eager to roll up your sleeves and harn...</td>\n",
       "      <td>3.2</td>\n",
       "      <td>NY</td>\n",
       "      <td>201 to 500 employees</td>\n",
       "      <td>62.0</td>\n",
       "      <td>Social Assistance</td>\n",
       "      <td>Non-Profit</td>\n",
       "    </tr>\n",
       "    <tr>\n",
       "      <th>1</th>\n",
       "      <td>1</td>\n",
       "      <td>0</td>\n",
       "      <td>51500.0</td>\n",
       "      <td>Overview\\n\\nProvides analytical and technical ...</td>\n",
       "      <td>3.8</td>\n",
       "      <td>NY</td>\n",
       "      <td>10000+ employees</td>\n",
       "      <td>130.0</td>\n",
       "      <td>Health Care Services &amp; Hospitals</td>\n",
       "      <td>Health Care</td>\n",
       "    </tr>\n",
       "    <tr>\n",
       "      <th>2</th>\n",
       "      <td>2</td>\n",
       "      <td>1</td>\n",
       "      <td>51500.0</td>\n",
       "      <td>We’re looking for a Senior Data Analyst who ha...</td>\n",
       "      <td>3.4</td>\n",
       "      <td>NY</td>\n",
       "      <td>1001 to 5000 employees</td>\n",
       "      <td>20.0</td>\n",
       "      <td>Internet</td>\n",
       "      <td>Information Technology</td>\n",
       "    </tr>\n",
       "    <tr>\n",
       "      <th>3</th>\n",
       "      <td>3</td>\n",
       "      <td>0</td>\n",
       "      <td>51500.0</td>\n",
       "      <td>Requisition NumberRR-0001939\\nRemote:Yes\\nWe c...</td>\n",
       "      <td>4.1</td>\n",
       "      <td>NY</td>\n",
       "      <td>201 to 500 employees</td>\n",
       "      <td>21.0</td>\n",
       "      <td>IT Services</td>\n",
       "      <td>Information Technology</td>\n",
       "    </tr>\n",
       "    <tr>\n",
       "      <th>4</th>\n",
       "      <td>4</td>\n",
       "      <td>0</td>\n",
       "      <td>51500.0</td>\n",
       "      <td>ABOUT FANDUEL GROUP\\n\\nFanDuel Group is a worl...</td>\n",
       "      <td>3.9</td>\n",
       "      <td>NY</td>\n",
       "      <td>501 to 1000 employees</td>\n",
       "      <td>14.0</td>\n",
       "      <td>Sports &amp; Recreation</td>\n",
       "      <td>Arts, Entertainment &amp; Recreation</td>\n",
       "    </tr>\n",
       "  </tbody>\n",
       "</table>\n",
       "</div>"
      ],
      "text/plain": [
       "   Job ID  Senior Position  Salary Estimate  \\\n",
       "0       0                0          51500.0   \n",
       "1       1                0          51500.0   \n",
       "2       2                1          51500.0   \n",
       "3       3                0          51500.0   \n",
       "4       4                0          51500.0   \n",
       "\n",
       "                                     Job Description  Rating Location  \\\n",
       "0  Are you eager to roll up your sleeves and harn...     3.2       NY   \n",
       "1  Overview\\n\\nProvides analytical and technical ...     3.8       NY   \n",
       "2  We’re looking for a Senior Data Analyst who ha...     3.4       NY   \n",
       "3  Requisition NumberRR-0001939\\nRemote:Yes\\nWe c...     4.1       NY   \n",
       "4  ABOUT FANDUEL GROUP\\n\\nFanDuel Group is a worl...     3.9       NY   \n",
       "\n",
       "                     Size  Company Age                          Industry  \\\n",
       "0    201 to 500 employees         62.0                 Social Assistance   \n",
       "1        10000+ employees        130.0  Health Care Services & Hospitals   \n",
       "2  1001 to 5000 employees         20.0                          Internet   \n",
       "3    201 to 500 employees         21.0                       IT Services   \n",
       "4   501 to 1000 employees         14.0               Sports & Recreation   \n",
       "\n",
       "                             Sector  \n",
       "0                        Non-Profit  \n",
       "1                       Health Care  \n",
       "2            Information Technology  \n",
       "3            Information Technology  \n",
       "4  Arts, Entertainment & Recreation  "
      ]
     },
     "execution_count": 14,
     "metadata": {},
     "output_type": "execute_result"
    }
   ],
   "source": [
    "# Obtains the current year and replaces the year founded with the company age.\n",
    "current_year = datetime.now().year\n",
    "df['Founded'] = current_year - df['Founded']\n",
    "df.rename(columns={'Founded': 'Company Age'}, inplace=True)\n",
    "\n",
    "# Bins the values by quartile. Not used in this version. \n",
    "#df['Company Age'] =  pd.qcut(df['Company Age'], q=4)\n",
    "\n",
    "# Location attribute reduced to state. \n",
    "df['Location'] = df['Location'].str.split(', ')\n",
    "df['Location'] = df['Location'].apply(lambda x: x[-1])\n",
    "\n",
    "df.head()"
   ]
  },
  {
   "cell_type": "code",
   "execution_count": 15,
   "id": "fe30faf5",
   "metadata": {},
   "outputs": [
    {
     "data": {
      "text/plain": [
       "<AxesSubplot: >"
      ]
     },
     "execution_count": 15,
     "metadata": {},
     "output_type": "execute_result"
    },
    {
     "data": {
      "image/png": "[encoded data removed]",
      "text/plain": [
       "<Figure size 640x480 with 2 Axes>"
      ]
     },
     "metadata": {},
     "output_type": "display_data"
    }
   ],
   "source": [
    "# Removes the EEOC statement from the end of the job postings.\n",
    "trunc = 'opportunity employer'\n",
    "df['Job Description'] = df['Job Description'].apply(lambda x: x[:x.lower().find(trunc)] if trunc in x.lower() else x)\n",
    "\n",
    "trunc2 = 'equal opportunity'\n",
    "df['Job Description'] = df['Job Description'].apply(lambda x: x[:x.lower().find(trunc2)] if trunc2 in x.lower() else x)\n",
    "\n",
    "df.reset_index(drop=True, inplace=True)\n",
    "\n",
    "# Correlation heat map of the numeric attribtues. \n",
    "corr = df.corr()\n",
    "sn.heatmap(corr, annot=True)"
   ]
  },
  {
   "cell_type": "markdown",
   "id": "3620fce5",
   "metadata": {},
   "source": [
    "Finally, the boilerplate EEOC statement was trimmed from the end of job descriptions in which it was present, as it bears little relevance on other attributes of the job and it is frequent enough to cause issues with clustering later on.\n",
    "\n",
    "After these finishing steps and resetting the index, the dataset is now in a much cleaner and useable format that will be used in multiple applications downstream. It can also be seen that there is very little correlation between the remaining numeric attributes. \n",
    "\n",
    "## K-Modes Clustering\n",
    "\n",
    "K-means (or k-medians) clustering is a popular and useful technique for clustering numeric values. However, it does not work well with categorical variables. K-modes [[2](#references)] is a more recently adapted application that allows for clustering of categorical variables based on their frequencies rather than their numeric values. \n",
    "\n",
    "First, some additional tweaking of the dataset will be performed in order to prepare it for this specific application. It is typical to log-scale numeric attributes with significant variation in order to reduce impact on training models. In this case, the attributes 'Salary Estimate' and 'Company Age' were both scaled back.\n",
    "\n",
    "This portion of the project aims to find clusters of companies that exist in the dataset. Therefore, attributes such as \"Job ID\" and \"Senior Position\" will be dropped, as they pertain to specific roles and not companies. "
   ]
  },
  {
   "cell_type": "code",
   "execution_count": 17,
   "id": "3248674f",
   "metadata": {},
   "outputs": [
    {
     "name": "stdout",
     "output_type": "stream",
     "text": [
      "<class 'pandas.core.frame.DataFrame'>\n",
      "Int64Index: 1571 entries, 0 to 1890\n",
      "Data columns (total 6 columns):\n",
      " #   Column           Non-Null Count  Dtype  \n",
      "---  ------           --------------  -----  \n",
      " 0   Salary Estimate  1571 non-null   float64\n",
      " 1   Rating           1571 non-null   float64\n",
      " 2   Location         1571 non-null   object \n",
      " 3   Size             1571 non-null   object \n",
      " 4   Company Age      1571 non-null   float64\n",
      " 5   Sector           1571 non-null   object \n",
      "dtypes: float64(3), object(3)\n",
      "memory usage: 85.9+ KB\n"
     ]
    }
   ],
   "source": [
    "# Dropping the attributes that pertain to the specific job posting.\n",
    "df_kmodes = df.drop(['Job ID', 'Senior Position', 'Job Description'], axis=1)\n",
    "\n",
    "# Dropping all staffing companies from this analysis.\n",
    "df_kmodes.drop(df_kmodes[df_kmodes['Industry'] == 'Staffing & Outsourcing'].index, inplace=True)\n",
    "\n",
    "# Now that 'Industry' has been used to drop staffing companies, it will be dropped due to the aforementioned reasons.\n",
    "df_kmodes.drop(['Industry'], axis=1, inplace=True)\n",
    "\n",
    "# Normalizing the more variable numeric features ('Company Age', in this case) by taking their logs.\n",
    "df_kmodes['Company Age'] = np.log(df_kmodes['Company Age'].tolist())\n",
    "df_kmodes['Salary Estimate'] = np.log(df_kmodes['Salary Estimate'].tolist())\n",
    "\n",
    "df_kmodes.info()"
   ]
  },
  {
   "cell_type": "code",
   "execution_count": 18,
   "id": "ea4ad630",
   "metadata": {},
   "outputs": [
    {
     "data": {
      "text/plain": [
       "[<matplotlib.lines.Line2D at 0x2376d03ee90>]"
      ]
     },
     "execution_count": 18,
     "metadata": {},
     "output_type": "execute_result"
    },
    {
     "data": {
      "image/png": "[encoded data removed]",
      "text/plain": [
       "<Figure size 640x480 with 1 Axes>"
      ]
     },
     "metadata": {},
     "output_type": "display_data"
    }
   ],
   "source": [
    "# Plots the cost of each model at its value k; smaller is more desirable. \n",
    "kmodes_costs = []\n",
    "k_range = range(1, 30)\n",
    "\n",
    "for k in k_range:\n",
    "    kmode = KModes(n_clusters=k, init = \"random\", n_init = 5, verbose=0)\n",
    "    kmode.fit_predict(df_kmodes)\n",
    "    kmodes_costs.append(kmode.cost_)\n",
    "    \n",
    "plt.plot(k_range, kmodes_costs)"
   ]
  },
  {
   "cell_type": "markdown",
   "id": "de0b95ef",
   "metadata": {},
   "source": [
    "The elbow plot doesn't show a clear hinge that would indicate leveling off. This is likely due to the fact that the clusters have quite a large amount of natural overlap, which would be expected with this dataset. For example, even if high-paying companies tend to exist in California, many other high-paying companies exist in conceivably every state in this analysis. \n",
    "\n",
    "It is highly preferred to keep the number of clusters minimal if possible, for reasons of overfitting and interpretability. With this is mind, much of the sharpness of decline seems to end at around k=7, so that will be used moving forward. Analysis using a greater number of clusters can be assessed if desired."
   ]
  },
  {
   "cell_type": "code",
   "execution_count": 19,
   "id": "1b91c101",
   "metadata": {},
   "outputs": [],
   "source": [
    "kmodes = KModes(n_clusters=7, init = \"random\", n_init = 5, verbose=0)\n",
    "kmodes.fit_predict(df_kmodes)\n",
    "kmodes_results = kmodes.cluster_centroids_"
   ]
  },
  {
   "cell_type": "code",
   "execution_count": 20,
   "id": "f806ce31",
   "metadata": {},
   "outputs": [
    {
     "data": {
      "text/html": [
       "<div>\n",
       "<style scoped>\n",
       "    .dataframe tbody tr th:only-of-type {\n",
       "        vertical-align: middle;\n",
       "    }\n",
       "\n",
       "    .dataframe tbody tr th {\n",
       "        vertical-align: top;\n",
       "    }\n",
       "\n",
       "    .dataframe thead th {\n",
       "        text-align: right;\n",
       "    }\n",
       "</style>\n",
       "<table border=\"1\" class=\"dataframe\">\n",
       "  <thead>\n",
       "    <tr style=\"text-align: right;\">\n",
       "      <th></th>\n",
       "      <th>Salary Estimate</th>\n",
       "      <th>Rating</th>\n",
       "      <th>Location</th>\n",
       "      <th>Size</th>\n",
       "      <th>Company Age</th>\n",
       "      <th>Sector</th>\n",
       "    </tr>\n",
       "  </thead>\n",
       "  <tbody>\n",
       "    <tr>\n",
       "      <th>0</th>\n",
       "      <td>59500.0</td>\n",
       "      <td>3.9</td>\n",
       "      <td>TX</td>\n",
       "      <td>51 to 200 employees</td>\n",
       "      <td>26.0</td>\n",
       "      <td>Information Technology</td>\n",
       "    </tr>\n",
       "    <tr>\n",
       "      <th>1</th>\n",
       "      <td>66500.0</td>\n",
       "      <td>3.0</td>\n",
       "      <td>NY</td>\n",
       "      <td>201 to 500 employees</td>\n",
       "      <td>26.0</td>\n",
       "      <td>Information Technology</td>\n",
       "    </tr>\n",
       "    <tr>\n",
       "      <th>2</th>\n",
       "      <td>92000.0</td>\n",
       "      <td>3.3</td>\n",
       "      <td>CA</td>\n",
       "      <td>501 to 1000 employees</td>\n",
       "      <td>21.0</td>\n",
       "      <td>Information Technology</td>\n",
       "    </tr>\n",
       "    <tr>\n",
       "      <th>3</th>\n",
       "      <td>51500.0</td>\n",
       "      <td>3.8</td>\n",
       "      <td>NY</td>\n",
       "      <td>1 to 50 employees</td>\n",
       "      <td>26.0</td>\n",
       "      <td>Business Services</td>\n",
       "    </tr>\n",
       "    <tr>\n",
       "      <th>4</th>\n",
       "      <td>40000.0</td>\n",
       "      <td>4.0</td>\n",
       "      <td>CA</td>\n",
       "      <td>10000+ employees</td>\n",
       "      <td>26.0</td>\n",
       "      <td>Health Care</td>\n",
       "    </tr>\n",
       "    <tr>\n",
       "      <th>5</th>\n",
       "      <td>99000.0</td>\n",
       "      <td>5.0</td>\n",
       "      <td>CA</td>\n",
       "      <td>51 to 200 employees</td>\n",
       "      <td>15.0</td>\n",
       "      <td>Information Technology</td>\n",
       "    </tr>\n",
       "    <tr>\n",
       "      <th>6</th>\n",
       "      <td>41500.0</td>\n",
       "      <td>3.6</td>\n",
       "      <td>TX</td>\n",
       "      <td>10000+ employees</td>\n",
       "      <td>224.0</td>\n",
       "      <td>Finance</td>\n",
       "    </tr>\n",
       "  </tbody>\n",
       "</table>\n",
       "</div>"
      ],
      "text/plain": [
       "   Salary Estimate Rating Location                   Size  Company Age  \\\n",
       "0          59500.0    3.9       TX    51 to 200 employees         26.0   \n",
       "1          66500.0    3.0       NY   201 to 500 employees         26.0   \n",
       "2          92000.0    3.3       CA  501 to 1000 employees         21.0   \n",
       "3          51500.0    3.8       NY      1 to 50 employees         26.0   \n",
       "4          40000.0    4.0       CA       10000+ employees         26.0   \n",
       "5          99000.0    5.0       CA    51 to 200 employees         15.0   \n",
       "6          41500.0    3.6       TX       10000+ employees        224.0   \n",
       "\n",
       "                   Sector  \n",
       "0  Information Technology  \n",
       "1  Information Technology  \n",
       "2  Information Technology  \n",
       "3       Business Services  \n",
       "4             Health Care  \n",
       "5  Information Technology  \n",
       "6                 Finance  "
      ]
     },
     "execution_count": 20,
     "metadata": {},
     "output_type": "execute_result"
    }
   ],
   "source": [
    "df_kmodes_results = pd.DataFrame(kmodes_results, columns=df_kmodes.columns)\n",
    "\n",
    "# Converting the log-scaled attributes back to their original form.\n",
    "df_kmodes_results['Salary Estimate'] = np.exp(df_kmodes_results['Salary Estimate'].astype(float))\n",
    "df_kmodes_results['Company Age'] = np.exp(df_kmodes_results['Company Age'].astype(float))\n",
    "\n",
    "df_kmodes_results"
   ]
  },
  {
   "cell_type": "markdown",
   "id": "012b4d22",
   "metadata": {},
   "source": [
    "Using this number of clusters, the data indicate some interesting trends. A couple of observations that can be made on the resulting clusters are as follows:\n",
    "- These clusters occur in New York, Texas, and California, which is unsurprising given the number of jobs in those states. More states would be added if more clusters existed. \n",
    "- The type of industry seeme to vary by state and size. For example, there is a cluster of large healthcare companies in Texas, and there different IT clusters in California that bifurcate most notably on size and rating. \n",
    "\n",
    "Ultimately, this approach can serve to get a feel for a sample of what types of attributes are commonly associated, but it doesn't appear to be as useful as it may be for other types of problems with more distinct clusters. "
   ]
  },
  {
   "cell_type": "markdown",
   "id": "a8c1e4be",
   "metadata": {},
   "source": [
    "## NMF of Job Description Text\n",
    "\n",
    "Non-negative matrix factorization [[3](#references)] can be useful in extracting data associated with specific clusters as well as predicting which labels might be associated with objects. However, before any analysis can be performed on the job description, the attribute will need to be vectorized in order to be understandable by the algorithm. \n",
    "\n",
    "Two more datasets are imported here:\n",
    "- DataSkills: A list of dozens of skills associated with data analysis, engineering, science, and related. Sourced from [[4,5,6](#references)], in addition to my own knowledge. \n",
    "- StopWords: A list of common words to exclude from vectorization. This custom list is used as certain words like 'go' may be associated with the programming language. Sourced from [[7](#references)]. These commonly-occuring words are removed as they tend to add extra noise."
   ]
  },
  {
   "cell_type": "code",
   "execution_count": 21,
   "id": "5a3d91a6",
   "metadata": {},
   "outputs": [],
   "source": [
    "df_skills = pd.read_csv('DataSkills.csv')\n",
    "df_stop = pd.read_csv('StopWords.csv')"
   ]
  },
  {
   "cell_type": "code",
   "execution_count": 22,
   "id": "50095f59",
   "metadata": {},
   "outputs": [
    {
     "data": {
      "text/html": [
       "<div>\n",
       "<style scoped>\n",
       "    .dataframe tbody tr th:only-of-type {\n",
       "        vertical-align: middle;\n",
       "    }\n",
       "\n",
       "    .dataframe tbody tr th {\n",
       "        vertical-align: top;\n",
       "    }\n",
       "\n",
       "    .dataframe thead th {\n",
       "        text-align: right;\n",
       "    }\n",
       "</style>\n",
       "<table border=\"1\" class=\"dataframe\">\n",
       "  <thead>\n",
       "    <tr style=\"text-align: right;\">\n",
       "      <th></th>\n",
       "      <th>00</th>\n",
       "      <th>000</th>\n",
       "      <th>10</th>\n",
       "      <th>100</th>\n",
       "      <th>1000</th>\n",
       "      <th>11</th>\n",
       "      <th>12</th>\n",
       "      <th>13</th>\n",
       "      <th>15</th>\n",
       "      <th>150</th>\n",
       "      <th>...</th>\n",
       "      <th>writing</th>\n",
       "      <th>written</th>\n",
       "      <th>www</th>\n",
       "      <th>xml</th>\n",
       "      <th>years</th>\n",
       "      <th>yes</th>\n",
       "      <th>yet</th>\n",
       "      <th>york</th>\n",
       "      <th>youll</th>\n",
       "      <th>yourself</th>\n",
       "    </tr>\n",
       "  </thead>\n",
       "  <tbody>\n",
       "    <tr>\n",
       "      <th>0</th>\n",
       "      <td>0.0</td>\n",
       "      <td>0.0</td>\n",
       "      <td>0.0</td>\n",
       "      <td>0.0</td>\n",
       "      <td>0.0</td>\n",
       "      <td>0.0</td>\n",
       "      <td>0.0</td>\n",
       "      <td>0.0</td>\n",
       "      <td>0.0</td>\n",
       "      <td>0.0</td>\n",
       "      <td>...</td>\n",
       "      <td>0.033574</td>\n",
       "      <td>0.00000</td>\n",
       "      <td>0.00000</td>\n",
       "      <td>0.0</td>\n",
       "      <td>0.028612</td>\n",
       "      <td>0.000000</td>\n",
       "      <td>0.0</td>\n",
       "      <td>0.000000</td>\n",
       "      <td>0.068729</td>\n",
       "      <td>0.063395</td>\n",
       "    </tr>\n",
       "    <tr>\n",
       "      <th>1</th>\n",
       "      <td>0.0</td>\n",
       "      <td>0.0</td>\n",
       "      <td>0.0</td>\n",
       "      <td>0.0</td>\n",
       "      <td>0.0</td>\n",
       "      <td>0.0</td>\n",
       "      <td>0.0</td>\n",
       "      <td>0.0</td>\n",
       "      <td>0.0</td>\n",
       "      <td>0.0</td>\n",
       "      <td>...</td>\n",
       "      <td>0.000000</td>\n",
       "      <td>0.02993</td>\n",
       "      <td>0.00000</td>\n",
       "      <td>0.0</td>\n",
       "      <td>0.019075</td>\n",
       "      <td>0.000000</td>\n",
       "      <td>0.0</td>\n",
       "      <td>0.000000</td>\n",
       "      <td>0.000000</td>\n",
       "      <td>0.000000</td>\n",
       "    </tr>\n",
       "    <tr>\n",
       "      <th>2</th>\n",
       "      <td>0.0</td>\n",
       "      <td>0.0</td>\n",
       "      <td>0.0</td>\n",
       "      <td>0.0</td>\n",
       "      <td>0.0</td>\n",
       "      <td>0.0</td>\n",
       "      <td>0.0</td>\n",
       "      <td>0.0</td>\n",
       "      <td>0.0</td>\n",
       "      <td>0.0</td>\n",
       "      <td>...</td>\n",
       "      <td>0.000000</td>\n",
       "      <td>0.00000</td>\n",
       "      <td>0.04949</td>\n",
       "      <td>0.0</td>\n",
       "      <td>0.020705</td>\n",
       "      <td>0.000000</td>\n",
       "      <td>0.0</td>\n",
       "      <td>0.099706</td>\n",
       "      <td>0.000000</td>\n",
       "      <td>0.000000</td>\n",
       "    </tr>\n",
       "    <tr>\n",
       "      <th>3</th>\n",
       "      <td>0.0</td>\n",
       "      <td>0.0</td>\n",
       "      <td>0.0</td>\n",
       "      <td>0.0</td>\n",
       "      <td>0.0</td>\n",
       "      <td>0.0</td>\n",
       "      <td>0.0</td>\n",
       "      <td>0.0</td>\n",
       "      <td>0.0</td>\n",
       "      <td>0.0</td>\n",
       "      <td>...</td>\n",
       "      <td>0.000000</td>\n",
       "      <td>0.00000</td>\n",
       "      <td>0.00000</td>\n",
       "      <td>0.0</td>\n",
       "      <td>0.035045</td>\n",
       "      <td>0.079043</td>\n",
       "      <td>0.0</td>\n",
       "      <td>0.000000</td>\n",
       "      <td>0.000000</td>\n",
       "      <td>0.000000</td>\n",
       "    </tr>\n",
       "    <tr>\n",
       "      <th>4</th>\n",
       "      <td>0.0</td>\n",
       "      <td>0.0</td>\n",
       "      <td>0.0</td>\n",
       "      <td>0.0</td>\n",
       "      <td>0.0</td>\n",
       "      <td>0.0</td>\n",
       "      <td>0.0</td>\n",
       "      <td>0.0</td>\n",
       "      <td>0.0</td>\n",
       "      <td>0.0</td>\n",
       "      <td>...</td>\n",
       "      <td>0.000000</td>\n",
       "      <td>0.00000</td>\n",
       "      <td>0.00000</td>\n",
       "      <td>0.0</td>\n",
       "      <td>0.023256</td>\n",
       "      <td>0.000000</td>\n",
       "      <td>0.0</td>\n",
       "      <td>0.066145</td>\n",
       "      <td>0.000000</td>\n",
       "      <td>0.000000</td>\n",
       "    </tr>\n",
       "  </tbody>\n",
       "</table>\n",
       "<p>5 rows × 2770 columns</p>\n",
       "</div>"
      ],
      "text/plain": [
       "    00  000   10  100  1000   11   12   13   15  150  ...   writing  written  \\\n",
       "0  0.0  0.0  0.0  0.0   0.0  0.0  0.0  0.0  0.0  0.0  ...  0.033574  0.00000   \n",
       "1  0.0  0.0  0.0  0.0   0.0  0.0  0.0  0.0  0.0  0.0  ...  0.000000  0.02993   \n",
       "2  0.0  0.0  0.0  0.0   0.0  0.0  0.0  0.0  0.0  0.0  ...  0.000000  0.00000   \n",
       "3  0.0  0.0  0.0  0.0   0.0  0.0  0.0  0.0  0.0  0.0  ...  0.000000  0.00000   \n",
       "4  0.0  0.0  0.0  0.0   0.0  0.0  0.0  0.0  0.0  0.0  ...  0.000000  0.00000   \n",
       "\n",
       "       www  xml     years       yes  yet      york     youll  yourself  \n",
       "0  0.00000  0.0  0.028612  0.000000  0.0  0.000000  0.068729  0.063395  \n",
       "1  0.00000  0.0  0.019075  0.000000  0.0  0.000000  0.000000  0.000000  \n",
       "2  0.04949  0.0  0.020705  0.000000  0.0  0.099706  0.000000  0.000000  \n",
       "3  0.00000  0.0  0.035045  0.079043  0.0  0.000000  0.000000  0.000000  \n",
       "4  0.00000  0.0  0.023256  0.000000  0.0  0.066145  0.000000  0.000000  \n",
       "\n",
       "[5 rows x 2770 columns]"
      ]
     },
     "execution_count": 22,
     "metadata": {},
     "output_type": "execute_result"
    }
   ],
   "source": [
    "stop_words = df_stop.word.tolist()\n",
    "\n",
    "vect = TfidfVectorizer(sublinear_tf=True, norm='l2', min_df=0.01, max_df=0.95, ngram_range=(1, 1), stop_words=stop_words)\n",
    "vectX = vect.fit_transform(df['Job Description'])\n",
    "    \n",
    "vectX = vectX.toarray()\n",
    "df_vect = pd.DataFrame(vectX, columns=vect.get_feature_names_out())\n",
    "df_vect.head()"
   ]
  },
  {
   "cell_type": "markdown",
   "id": "08e3f83e",
   "metadata": {},
   "source": [
    "With the vectorized job descriptions created, the matrix can now be factorized. In order to give the presence of skills more weight in clustering these objects, exponentiation is used to scale skills that are present in the dataset and give them more weight. "
   ]
  },
  {
   "cell_type": "code",
   "execution_count": 23,
   "id": "b138233b",
   "metadata": {},
   "outputs": [],
   "source": [
    "# This weighting can be adjusted (smaller = more weight).\n",
    "skill_scaling = .1\n",
    "skills_present = []\n",
    "\n",
    "# Applies the weight to each skill attribute in the vectorized dataframe. \n",
    "for skill in df_skills.skill.tolist():\n",
    "    if skill in df_vect.columns:\n",
    "        skills_present.append(skill)\n",
    "        df_vect[skill] = np.power(df_vect[skill], skill_scaling)"
   ]
  },
  {
   "cell_type": "code",
   "execution_count": 24,
   "id": "be7d15d7",
   "metadata": {},
   "outputs": [],
   "source": [
    "# Creating the desired matricies. \n",
    "nmf_model = NMF(n_components=3, init='random', random_state=10, max_iter=500)\n",
    "W = nmf_model.fit_transform(df_vect)\n",
    "H = nmf_model.components_"
   ]
  },
  {
   "cell_type": "code",
   "execution_count": 25,
   "id": "f7929c29",
   "metadata": {},
   "outputs": [
    {
     "name": "stdout",
     "output_type": "stream",
     "text": [
      "['tableau' 'bi' 'sql' 'microsoft' 'looker']\n",
      "['database' 'sql' 'microsoft' 'oracle' 'javascript']\n",
      "['python' 'sql' 'machine' 'aws' 'hadoop']\n"
     ]
    }
   ],
   "source": [
    "# Finds the top n words associated with each cluster.\n",
    "def max_impact_words(mat, word_names, num_words=5):\n",
    "    for cat in mat:\n",
    "        locs = cat.argsort()[-num_words:][::-1]\n",
    "        print(word_names[locs])\n",
    "\n",
    "words = vect.get_feature_names_out()     \n",
    "max_impact_words(H, word_names=words)"
   ]
  },
  {
   "cell_type": "markdown",
   "id": "7063c8ba",
   "metadata": {},
   "source": [
    "Splitting the data into three clusters results in a significant amount of overlap. This is somewhat expected, as it would be unsurprising if a majority of data analyst job postings required SQL skills, for example. Nonetheless, these clusters still convey some degree of meaningfullness. The first cluster is associated with data visualization, the second with databases, and the third with something closer to machine learning. \n",
    "\n",
    "Next, the matricies obtained from the NMF will be used to obtain more useful information from the original dataset based on these clusters. Each object will be assigned to a cluster, followed by metrics like salary and count being obtained for each cluster."
   ]
  },
  {
   "cell_type": "code",
   "execution_count": 26,
   "id": "0fbfb3d6",
   "metadata": {},
   "outputs": [
    {
     "data": {
      "text/html": [
       "<div>\n",
       "<style scoped>\n",
       "    .dataframe tbody tr th:only-of-type {\n",
       "        vertical-align: middle;\n",
       "    }\n",
       "\n",
       "    .dataframe tbody tr th {\n",
       "        vertical-align: top;\n",
       "    }\n",
       "\n",
       "    .dataframe thead th {\n",
       "        text-align: right;\n",
       "    }\n",
       "</style>\n",
       "<table border=\"1\" class=\"dataframe\">\n",
       "  <thead>\n",
       "    <tr style=\"text-align: right;\">\n",
       "      <th></th>\n",
       "      <th>Category</th>\n",
       "    </tr>\n",
       "  </thead>\n",
       "  <tbody>\n",
       "    <tr>\n",
       "      <th>0</th>\n",
       "      <td>machine learning</td>\n",
       "    </tr>\n",
       "    <tr>\n",
       "      <th>1</th>\n",
       "      <td>databases</td>\n",
       "    </tr>\n",
       "    <tr>\n",
       "      <th>2</th>\n",
       "      <td>visualization</td>\n",
       "    </tr>\n",
       "    <tr>\n",
       "      <th>3</th>\n",
       "      <td>visualization</td>\n",
       "    </tr>\n",
       "    <tr>\n",
       "      <th>4</th>\n",
       "      <td>machine learning</td>\n",
       "    </tr>\n",
       "  </tbody>\n",
       "</table>\n",
       "</div>"
      ],
      "text/plain": [
       "           Category\n",
       "0  machine learning\n",
       "1         databases\n",
       "2     visualization\n",
       "3     visualization\n",
       "4  machine learning"
      ]
     },
     "execution_count": 26,
     "metadata": {},
     "output_type": "execute_result"
    }
   ],
   "source": [
    "# Takes a vectorized dataframe of Job ID and word frequencies and returns a dataframe of predictions for each entry.\n",
    "ordered_labels = {0:'visualization', 1:'databases', 2:'machine learning'}\n",
    "\n",
    "df_vect_ID = df_vect.copy()\n",
    "\n",
    "def nmf_predict(H_mat, dataframe, labels):\n",
    "    df_calc = dataframe#.iloc[:, 1:]\n",
    "    calcs = np.dot(H_mat, np.transpose(df_calc))\n",
    "    best = calcs.argmax(axis=0)\n",
    "    data = {'Category': best}\n",
    "    preds = pd.DataFrame(data)\n",
    "    preds = preds.replace({'Category':labels})\n",
    "    return preds\n",
    "    \n",
    "preds = nmf_predict(H_mat = H, dataframe = df_vect_ID, labels=ordered_labels)\n",
    "preds.head()"
   ]
  },
  {
   "cell_type": "code",
   "execution_count": 27,
   "id": "f05839cd",
   "metadata": {},
   "outputs": [
    {
     "data": {
      "text/html": [
       "<div>\n",
       "<style scoped>\n",
       "    .dataframe tbody tr th:only-of-type {\n",
       "        vertical-align: middle;\n",
       "    }\n",
       "\n",
       "    .dataframe tbody tr th {\n",
       "        vertical-align: top;\n",
       "    }\n",
       "\n",
       "    .dataframe thead th {\n",
       "        text-align: right;\n",
       "    }\n",
       "</style>\n",
       "<table border=\"1\" class=\"dataframe\">\n",
       "  <thead>\n",
       "    <tr style=\"text-align: right;\">\n",
       "      <th></th>\n",
       "      <th>Average Salary</th>\n",
       "    </tr>\n",
       "    <tr>\n",
       "      <th>Category</th>\n",
       "      <th></th>\n",
       "    </tr>\n",
       "  </thead>\n",
       "  <tbody>\n",
       "    <tr>\n",
       "      <th>databases</th>\n",
       "      <td>69555.67</td>\n",
       "    </tr>\n",
       "    <tr>\n",
       "      <th>machine learning</th>\n",
       "      <td>75647.62</td>\n",
       "    </tr>\n",
       "    <tr>\n",
       "      <th>visualization</th>\n",
       "      <td>74336.84</td>\n",
       "    </tr>\n",
       "  </tbody>\n",
       "</table>\n",
       "</div>"
      ],
      "text/plain": [
       "                  Average Salary\n",
       "Category                        \n",
       "databases               69555.67\n",
       "machine learning        75647.62\n",
       "visualization           74336.84"
      ]
     },
     "metadata": {},
     "output_type": "display_data"
    },
    {
     "data": {
      "text/html": [
       "<div>\n",
       "<style scoped>\n",
       "    .dataframe tbody tr th:only-of-type {\n",
       "        vertical-align: middle;\n",
       "    }\n",
       "\n",
       "    .dataframe tbody tr th {\n",
       "        vertical-align: top;\n",
       "    }\n",
       "\n",
       "    .dataframe thead th {\n",
       "        text-align: right;\n",
       "    }\n",
       "</style>\n",
       "<table border=\"1\" class=\"dataframe\">\n",
       "  <thead>\n",
       "    <tr style=\"text-align: right;\">\n",
       "      <th></th>\n",
       "      <th>Number of Listings</th>\n",
       "    </tr>\n",
       "    <tr>\n",
       "      <th>Category</th>\n",
       "      <th></th>\n",
       "    </tr>\n",
       "  </thead>\n",
       "  <tbody>\n",
       "    <tr>\n",
       "      <th>databases</th>\n",
       "      <td>1006</td>\n",
       "    </tr>\n",
       "    <tr>\n",
       "      <th>machine learning</th>\n",
       "      <td>315</td>\n",
       "    </tr>\n",
       "    <tr>\n",
       "      <th>visualization</th>\n",
       "      <td>570</td>\n",
       "    </tr>\n",
       "  </tbody>\n",
       "</table>\n",
       "</div>"
      ],
      "text/plain": [
       "                  Number of Listings\n",
       "Category                            \n",
       "databases                       1006\n",
       "machine learning                 315\n",
       "visualization                    570"
      ]
     },
     "metadata": {},
     "output_type": "display_data"
    }
   ],
   "source": [
    "# Creates a new dataset that appends the predicted category to each job.\n",
    "df_cat = pd.concat([df, preds.Category], axis=1)\n",
    "\n",
    "df_cat_trimmed = df_cat[['Category', 'Salary Estimate']]\n",
    "\n",
    "cat_mean = np.round(df_cat_trimmed.groupby('Category').mean(), 2)\n",
    "cat_mean.rename(columns={'Category': 'Category', 'Salary Estimate': 'Average Salary'}, inplace=True)\n",
    "\n",
    "cat_count = df_cat_trimmed.groupby('Category').count()\n",
    "cat_count.rename(columns={'Category': 'Category', 'Salary Estimate': 'Number of Listings'}, inplace=True)\n",
    "\n",
    "display(cat_mean, cat_count)"
   ]
  },
  {
   "cell_type": "markdown",
   "id": "65421d03",
   "metadata": {},
   "source": [
    "As seen above, the machine learning cluster is associated with the highest salaries, followed by visualization and databases. However, the frequencies of job postings of these clusters are inversely related to their salaries. \n",
    "\n",
    "With the clusters of skills identified and linked to average salaries, it may be of additional interest to assess the average salary associated with each individual skill. Below, a dataframe is created that links the presence of skills from the vectorized job descriptions to the salary estimate attribute of each object. This is then incorporated into a graphing function that  displays the top or bottom n skills by salary. "
   ]
  },
  {
   "cell_type": "code",
   "execution_count": 28,
   "id": "d6c6f4f3",
   "metadata": {},
   "outputs": [
    {
     "data": {
      "text/html": [
       "<div>\n",
       "<style scoped>\n",
       "    .dataframe tbody tr th:only-of-type {\n",
       "        vertical-align: middle;\n",
       "    }\n",
       "\n",
       "    .dataframe tbody tr th {\n",
       "        vertical-align: top;\n",
       "    }\n",
       "\n",
       "    .dataframe thead th {\n",
       "        text-align: right;\n",
       "    }\n",
       "</style>\n",
       "<table border=\"1\" class=\"dataframe\">\n",
       "  <thead>\n",
       "    <tr style=\"text-align: right;\">\n",
       "      <th></th>\n",
       "      <th>javascript</th>\n",
       "      <th>python</th>\n",
       "      <th>go</th>\n",
       "      <th>java</th>\n",
       "      <th>matlab</th>\n",
       "      <th>scala</th>\n",
       "      <th>sql</th>\n",
       "      <th>html</th>\n",
       "      <th>nosql</th>\n",
       "      <th>perl</th>\n",
       "      <th>...</th>\n",
       "      <th>snowflake</th>\n",
       "      <th>bi</th>\n",
       "      <th>pandas</th>\n",
       "      <th>machine</th>\n",
       "      <th>aws</th>\n",
       "      <th>azure</th>\n",
       "      <th>sap</th>\n",
       "      <th>salesforce</th>\n",
       "      <th>hadoop</th>\n",
       "      <th>Salary Estimate</th>\n",
       "    </tr>\n",
       "  </thead>\n",
       "  <tbody>\n",
       "    <tr>\n",
       "      <th>0</th>\n",
       "      <td>0</td>\n",
       "      <td>1</td>\n",
       "      <td>0</td>\n",
       "      <td>0</td>\n",
       "      <td>0</td>\n",
       "      <td>0</td>\n",
       "      <td>1</td>\n",
       "      <td>0</td>\n",
       "      <td>0</td>\n",
       "      <td>0</td>\n",
       "      <td>...</td>\n",
       "      <td>0</td>\n",
       "      <td>0</td>\n",
       "      <td>0</td>\n",
       "      <td>0</td>\n",
       "      <td>1</td>\n",
       "      <td>0</td>\n",
       "      <td>0</td>\n",
       "      <td>0</td>\n",
       "      <td>0</td>\n",
       "      <td>51500.0</td>\n",
       "    </tr>\n",
       "    <tr>\n",
       "      <th>1</th>\n",
       "      <td>0</td>\n",
       "      <td>0</td>\n",
       "      <td>0</td>\n",
       "      <td>0</td>\n",
       "      <td>0</td>\n",
       "      <td>0</td>\n",
       "      <td>1</td>\n",
       "      <td>0</td>\n",
       "      <td>0</td>\n",
       "      <td>0</td>\n",
       "      <td>...</td>\n",
       "      <td>0</td>\n",
       "      <td>0</td>\n",
       "      <td>0</td>\n",
       "      <td>0</td>\n",
       "      <td>0</td>\n",
       "      <td>0</td>\n",
       "      <td>0</td>\n",
       "      <td>0</td>\n",
       "      <td>0</td>\n",
       "      <td>51500.0</td>\n",
       "    </tr>\n",
       "    <tr>\n",
       "      <th>2</th>\n",
       "      <td>0</td>\n",
       "      <td>1</td>\n",
       "      <td>0</td>\n",
       "      <td>0</td>\n",
       "      <td>0</td>\n",
       "      <td>0</td>\n",
       "      <td>1</td>\n",
       "      <td>0</td>\n",
       "      <td>0</td>\n",
       "      <td>0</td>\n",
       "      <td>...</td>\n",
       "      <td>0</td>\n",
       "      <td>1</td>\n",
       "      <td>0</td>\n",
       "      <td>0</td>\n",
       "      <td>0</td>\n",
       "      <td>0</td>\n",
       "      <td>0</td>\n",
       "      <td>0</td>\n",
       "      <td>0</td>\n",
       "      <td>51500.0</td>\n",
       "    </tr>\n",
       "    <tr>\n",
       "      <th>3</th>\n",
       "      <td>0</td>\n",
       "      <td>0</td>\n",
       "      <td>0</td>\n",
       "      <td>0</td>\n",
       "      <td>0</td>\n",
       "      <td>0</td>\n",
       "      <td>1</td>\n",
       "      <td>0</td>\n",
       "      <td>0</td>\n",
       "      <td>0</td>\n",
       "      <td>...</td>\n",
       "      <td>0</td>\n",
       "      <td>0</td>\n",
       "      <td>0</td>\n",
       "      <td>0</td>\n",
       "      <td>0</td>\n",
       "      <td>0</td>\n",
       "      <td>0</td>\n",
       "      <td>0</td>\n",
       "      <td>0</td>\n",
       "      <td>51500.0</td>\n",
       "    </tr>\n",
       "    <tr>\n",
       "      <th>4</th>\n",
       "      <td>0</td>\n",
       "      <td>1</td>\n",
       "      <td>0</td>\n",
       "      <td>0</td>\n",
       "      <td>0</td>\n",
       "      <td>0</td>\n",
       "      <td>1</td>\n",
       "      <td>0</td>\n",
       "      <td>0</td>\n",
       "      <td>0</td>\n",
       "      <td>...</td>\n",
       "      <td>0</td>\n",
       "      <td>0</td>\n",
       "      <td>0</td>\n",
       "      <td>0</td>\n",
       "      <td>0</td>\n",
       "      <td>0</td>\n",
       "      <td>0</td>\n",
       "      <td>0</td>\n",
       "      <td>0</td>\n",
       "      <td>51500.0</td>\n",
       "    </tr>\n",
       "  </tbody>\n",
       "</table>\n",
       "<p>5 rows × 33 columns</p>\n",
       "</div>"
      ],
      "text/plain": [
       "   javascript  python  go  java  matlab  scala  sql  html  nosql  perl  ...  \\\n",
       "0           0       1   0     0       0      0    1     0      0     0  ...   \n",
       "1           0       0   0     0       0      0    1     0      0     0  ...   \n",
       "2           0       1   0     0       0      0    1     0      0     0  ...   \n",
       "3           0       0   0     0       0      0    1     0      0     0  ...   \n",
       "4           0       1   0     0       0      0    1     0      0     0  ...   \n",
       "\n",
       "   snowflake  bi  pandas  machine  aws  azure  sap  salesforce  hadoop  \\\n",
       "0          0   0       0        0    1      0    0           0       0   \n",
       "1          0   0       0        0    0      0    0           0       0   \n",
       "2          0   1       0        0    0      0    0           0       0   \n",
       "3          0   0       0        0    0      0    0           0       0   \n",
       "4          0   0       0        0    0      0    0           0       0   \n",
       "\n",
       "   Salary Estimate  \n",
       "0          51500.0  \n",
       "1          51500.0  \n",
       "2          51500.0  \n",
       "3          51500.0  \n",
       "4          51500.0  \n",
       "\n",
       "[5 rows x 33 columns]"
      ]
     },
     "execution_count": 28,
     "metadata": {},
     "output_type": "execute_result"
    }
   ],
   "source": [
    "# Creates a dataframe in which presence of skills is binary and appends salary info. \n",
    "df_vect_cat = df_vect[skills_present]\n",
    "df_vect_cat = df_vect_cat.applymap(lambda x: 1 if x>0 else 0)\n",
    "df_vect_cat = pd.concat([df_vect_cat, df['Salary Estimate']], axis=1)\n",
    "df_vect_cat.head()"
   ]
  },
  {
   "cell_type": "code",
   "execution_count": 29,
   "id": "5f73fac9",
   "metadata": {},
   "outputs": [
    {
     "data": {
      "image/png": "[encoded data removed]",
      "text/plain": [
       "<Figure size 640x480 with 1 Axes>"
      ]
     },
     "metadata": {},
     "output_type": "display_data"
    }
   ],
   "source": [
    "skill_salaries = {}\n",
    "\n",
    "for skill in skills_present:\n",
    "    avg = df_vect_cat[df_vect_cat[skill]>0]['Salary Estimate'].mean()\n",
    "    skill_salaries[skill] = np.round(avg, 2)\n",
    "\n",
    "def plot_salaries(salary_dict, n=5, high_to_low=True):    \n",
    "    salary_dict = dict(sorted(salary_dict.items(), key=lambda item: item[1], reverse=high_to_low))\n",
    "    skills = list(salary_dict.keys())\n",
    "    salaries = list(salary_dict.values())\n",
    "    \n",
    "    plt.bar(range(n), salaries[:n], tick_label=skills[:n])\n",
    "    \n",
    "    hi_low = 'Top' if high_to_low else 'Bottom'\n",
    "        \n",
    "    plt.title(f'{hi_low} {n} Data Analyst Skills by Salary')\n",
    "    plt.xlabel('Skills')\n",
    "    plt.ylabel('Average Salary')\n",
    "    plt.show()\n",
    "    \n",
    "plot_salaries(skill_salaries, n=6, high_to_low=True)"
   ]
  },
  {
   "cell_type": "markdown",
   "id": "811efa7a",
   "metadata": {},
   "source": [
    "## Additional Salary Visualization\n",
    "\n",
    "With salaries mapped to skills, a few additional features will be assessed to determine their association with salary estimates. "
   ]
  },
  {
   "cell_type": "code",
   "execution_count": 30,
   "id": "2a0d8427",
   "metadata": {},
   "outputs": [
    {
     "data": {
      "text/plain": [
       "Text(0.5, 1.0, 'Salary Average by Company Rating')"
      ]
     },
     "execution_count": 30,
     "metadata": {},
     "output_type": "execute_result"
    },
    {
     "data": {
      "image/png": "[encoded data removed]",
      "text/plain": [
       "<Figure size 640x480 with 1 Axes>"
      ]
     },
     "metadata": {},
     "output_type": "display_data"
    }
   ],
   "source": [
    "plt.scatter(df['Rating'], df['Salary Estimate'])\n",
    "plt.xlabel('Rating')\n",
    "plt.ylabel('Salary Estimate ($)')\n",
    "plt.title('Salary Average by Company Rating')"
   ]
  },
  {
   "cell_type": "code",
   "execution_count": 31,
   "id": "e8943b77",
   "metadata": {},
   "outputs": [
    {
     "data": {
      "text/plain": [
       "0.002192881459070928"
      ]
     },
     "execution_count": 31,
     "metadata": {},
     "output_type": "execute_result"
    }
   ],
   "source": [
    "# Finds the R squared of the two variables. \n",
    "LR_rating_salary = LinearRegression().fit(df['Rating'].to_frame(), df['Salary Estimate'])\n",
    "LR_rating_salary.score(df['Rating'].to_frame(), df['Salary Estimate'])"
   ]
  },
  {
   "cell_type": "code",
   "execution_count": 32,
   "id": "f26a3cbc",
   "metadata": {},
   "outputs": [
    {
     "data": {
      "text/plain": [
       "Text(0.5, 1.0, 'Salary Average by State')"
      ]
     },
     "execution_count": 32,
     "metadata": {},
     "output_type": "execute_result"
    },
    {
     "data": {
      "image/png": "[encoded data removed]",
      "text/plain": [
       "<Figure size 640x480 with 1 Axes>"
      ]
     },
     "metadata": {},
     "output_type": "display_data"
    }
   ],
   "source": [
    "loc_salaries = df.groupby('Location')['Salary Estimate'].mean().sort_values(ascending=False)\n",
    "plt.bar(loc_salaries.index, loc_salaries)\n",
    "plt.xlabel('State')\n",
    "plt.ylabel('Salary Estimate ($)')\n",
    "plt.title('Salary Average by State')"
   ]
  },
  {
   "cell_type": "code",
   "execution_count": 33,
   "id": "c6a8d346",
   "metadata": {},
   "outputs": [
    {
     "data": {
      "text/plain": [
       "Text(0.5, 1.0, 'Salary Average by Company Age')"
      ]
     },
     "execution_count": 33,
     "metadata": {},
     "output_type": "execute_result"
    },
    {
     "data": {
      "image/png": "[encoded data removed]",
      "text/plain": [
       "<Figure size 640x480 with 1 Axes>"
      ]
     },
     "metadata": {},
     "output_type": "display_data"
    }
   ],
   "source": [
    "plt.scatter(df['Company Age'], df['Salary Estimate'])\n",
    "plt.xlabel('Company Age')\n",
    "plt.ylabel('Salary Estimate ($)')\n",
    "plt.title('Salary Average by Company Age')"
   ]
  },
  {
   "cell_type": "code",
   "execution_count": 34,
   "id": "63396931",
   "metadata": {},
   "outputs": [
    {
     "data": {
      "text/plain": [
       "0.008552838219935799"
      ]
     },
     "execution_count": 34,
     "metadata": {},
     "output_type": "execute_result"
    }
   ],
   "source": [
    "# Finds the R squared of the two variables. \n",
    "LR_age_salary = LinearRegression().fit(df['Company Age'].to_frame(), df['Salary Estimate'])\n",
    "LR_age_salary.score(df['Company Age'].to_frame(), df['Salary Estimate'])"
   ]
  },
  {
   "cell_type": "markdown",
   "id": "d0e65c93",
   "metadata": {},
   "source": [
    "This first set of variables shows that company rating has little association with salary estimate, with the plot showing little trend and the R squared being negligible. It is also notable that ratings tend to skew to the higher side. \n",
    "\n",
    "In the next plot, some associations can be seen in comparing salary to state. There is more evidently a correlation in this case.\n",
    "\n",
    "In the third plot, there is little association with company age and salary, again by the lack of a notable trend in the plot and a lack of a significant R squared value. It is also notable that companies tend to be younger rather than older in this dataset. "
   ]
  },
  {
   "cell_type": "markdown",
   "id": "742c2140",
   "metadata": {},
   "source": [
    "## Predicting Job Salary from Job Description\n",
    "\n",
    "Now that it can be seen that there is some correlation between skills and salaries, an exploration will be made into assessing whether salary can be predicted from the job description. \n",
    "\n",
    "NMF, which was used previously in this project, will be used as an unsupervised approach to be compared to a supervised Bayesian benchmark. The following function takes a vectorized job description or skill dataset associated with salary expectations, and returns prediction accuracy from each model.\n",
    "\n",
    "For the sake of simplicity (but at the cost of precision), salary estimates will be binned as high, medium, and low based on which third of the salary estimates they fall into."
   ]
  },
  {
   "cell_type": "code",
   "execution_count": 35,
   "id": "4fc31dd1",
   "metadata": {},
   "outputs": [],
   "source": [
    "# Takes a dataset and returns model prediction accuracies of NMF and Bayes models. \n",
    "def nmf_pipeline(dataframe):\n",
    "    # Splitting up the relevant dataset into train and test, independent and target. \n",
    "    dataframe = dataframe.sample(frac=1, random_state=10)\n",
    "    dataframe.reset_index(drop=True, inplace=True)\n",
    "    X = dataframe.drop(['Salary Estimate'], axis=1)\n",
    "    y = dataframe['Salary Estimate']\n",
    "    X_train, X_test, y_train, y_test = train_test_split(X, y, test_size=0.3, shuffle=False)\n",
    "    \n",
    "    # Obtains the necessary NMF matrix from the given dataset.\n",
    "    nmf = NMF(n_components=3, init='random', random_state=10, max_iter=500)\n",
    "    W_sal = nmf.fit_transform(X_train)\n",
    "    H_sal = nmf.components_\n",
    "    \n",
    "    # Checks for the best fitting labels to use in the prediction dataset and returns accuracy. \n",
    "    perms = list(itertools.permutations(['low', 'mid', 'high']))\n",
    "    \n",
    "    # Finds the best fitting of labels and the associated accuracy. \n",
    "    best_perm, nmf_accuracy = {}, 0\n",
    "    for perm in perms:\n",
    "        sal_labels = {0:perm[0], 1:perm[1], 2:perm[2]}\n",
    "        preds_sal = nmf_predict(H_mat = H_sal, dataframe = X_test, labels=sal_labels)\n",
    "        accuracy = accuracy_score(y_test, preds_sal.Category)\n",
    "    \n",
    "        if accuracy > nmf_accuracy:\n",
    "            best_perm = sal_labels\n",
    "            nmf_accuracy = accuracy\n",
    "\n",
    "    # Complement naive Bayes model to use as a testing baseline. \n",
    "    bayes_model = ComplementNB()\n",
    "    bayes_model.fit(X_train, y_train)\n",
    "\n",
    "    bayes_preds = bayes_model.predict(X_test)\n",
    "    bayes_accuracy = accuracy_score(y_test, bayes_preds)\n",
    "    \n",
    "    nmf_accuracy = 'The accuracy of the NMF model is: ' + str(np.round(nmf_accuracy, 2))\n",
    "    bayes_accuracy = 'The accuracy of the Bayes model is: ' + str(np.round(bayes_accuracy, 2))\n",
    "\n",
    "    return nmf_accuracy, bayes_accuracy"
   ]
  },
  {
   "cell_type": "code",
   "execution_count": 36,
   "id": "79ae1efa",
   "metadata": {},
   "outputs": [],
   "source": [
    "# Finds the numbers at which to split the target data into thirds.\n",
    "salary_cutoffs = df_vect_cat['Salary Estimate'].quantile([0.33, 0.67])\n",
    "\n",
    "# Function that bins the dataset into 3 'quartiles'.\n",
    "def bin_sals(x):\n",
    "    if x<=salary_cutoffs.iloc[0]: return 'low'\n",
    "    elif x<=salary_cutoffs.iloc[1]: return 'mid'\n",
    "    else: return 'high'\n",
    "\n",
    "# Creating a dataset that associates binned salaries with skills.    \n",
    "df_vect_sal = df_vect_cat.copy()\n",
    "df_vect_sal['Salary Estimate'] = df_vect_sal['Salary Estimate'].apply(bin_sals)\n",
    "\n",
    "# Creating a dataset that associates binned salaries with job description texted with skills weighted more heavily. \n",
    "df_vect_full_sal = df_vect.copy() \n",
    "df_vect_full_sal = pd.concat([df_vect_full_sal, df['Salary Estimate']], axis=1)\n",
    "df_vect_full_sal['Salary Estimate'] = df_vect_full_sal['Salary Estimate'].apply(bin_sals)"
   ]
  },
  {
   "cell_type": "code",
   "execution_count": 37,
   "id": "607caa13",
   "metadata": {},
   "outputs": [
    {
     "name": "stdout",
     "output_type": "stream",
     "text": [
      "('The accuracy of the NMF model is: 0.38', 'The accuracy of the Bayes model is: 0.38')\n",
      "('The accuracy of the NMF model is: 0.36', 'The accuracy of the Bayes model is: 0.47')\n"
     ]
    }
   ],
   "source": [
    "print(nmf_pipeline(df_vect_sal))\n",
    "print(nmf_pipeline(df_vect_full_sal))"
   ]
  },
  {
   "cell_type": "markdown",
   "id": "5457b58e",
   "metadata": {},
   "source": [
    "Prediction accuracy in this application is not expected to be high due to some significant confounding factors, such as the fact that many skills can be present in both high and low salaried jobs. \n",
    "\n",
    "When attributes are restricted to only the skills present in the job description, prediction accuracies between the unsupervised NMF approach and the supervised Bayes model are quite similar in that they barely surpass chance. However, when more attributes are included from the job description, the supervised approach pulls ahead to roughly 50% accuracy while the unsupervised approach remains near chance. \n",
    "\n",
    "## Conclusions\n",
    "\n",
    "In exploring and evaluating the data present in this dataset, some efforts were more illuminating than others. Indications of seniority in job titles tended to be associated with a slight increase in expected salary. Other attributes associated with a positive effect on salary included certain skills, locations, or clusters from job descriptions. However, many attributes had little effect on salary, including the age of the company and company rating. \n",
    "\n",
    "Efforts to cluster the dataset using the native attributes was rather unenlightening, with little useful knowledge able to be attained from the resulting clusters. Similarly, NMF approaches in predicting salary from job descriptions performed poorly compared to a benchmark Bayes model. In part, this can be attributed to the likely possibility that pure clusters cannot be reasonably formed from this dataset; the same skills may be associate with different salaries depending on less visible aspects of the position. \n",
    "\n",
    "With the data in the current cleaned and vectorize state, it may be useful to incorporate job descriptions into an item-item based recommender system as a future step. This would be quite useful in suggesting jobs similar to those that the job seeker has already applied to. "
   ]
  },
  {
   "cell_type": "markdown",
   "id": "fa2699e7",
   "metadata": {},
   "source": [
    "<a id='references'></a>\n",
    "## References\n",
    "\n",
    "[1] \"Data Analyst Jobs.\" Kaggle, https://www.kaggle.com/datasets/andrewmvd/data-analyst-jobs.\n",
    "\n",
    "[2] \"kmodes.\" Pypi, https://pypi.org/project/kmodes/.\n",
    "\n",
    "[3] \"sklearn.decomposition.NMF.\" Scikit learn, https://scikit-learn.org/stable/modules/generated/sklearn.decomposition.NMF.html.\n",
    "\n",
    "[4] \"The Top 20 Data Engineering Tools Used by Growing Tech Companies.\" Secoda, \"https://www.secoda.co/blog/the-top-20-most-commonly-used-data-engineering-tools\".\n",
    "\n",
    "[5] \"Top 20 Best Programming Languages To Learn in 2023.\" Simplilearn, \"https://www.simplilearn.com/best-programming-languages-start-learning-today-article\".\n",
    "\n",
    "[6] \"11 Most Popular Machine Learning Software Tools In 2023.\" Software Testing Help, \"https://www.softwaretestinghelp.com/machine-learning-tools/\".\n",
    "\n",
    "[7] \"Most common words in English.\" Wikipedia, \"https://en.wikipedia.org/wiki/Most_common_words_in_English\"."
   ]
  },
  {
   "cell_type": "code",
   "execution_count": null,
   "id": "98d86455",
   "metadata": {},
   "outputs": [],
   "source": []
  }
 ],
 "metadata": {
  "kernelspec": {
   "display_name": "Python 3 (ipykernel)",
   "language": "python",
   "name": "python3"
  },
  "language_info": {
   "codemirror_mode": {
    "name": "ipython",
    "version": 3
   },
   "file_extension": ".py",
   "mimetype": "text/x-python",
   "name": "python",
   "nbconvert_exporter": "python",
   "pygments_lexer": "ipython3",
   "version": "3.10.1"
  }
 },
 "nbformat": 4,
 "nbformat_minor": 5
}
