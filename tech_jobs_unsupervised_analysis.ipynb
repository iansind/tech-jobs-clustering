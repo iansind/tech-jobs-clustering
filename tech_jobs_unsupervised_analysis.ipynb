{
 "cells": [
  {
   "cell_type": "markdown",
   "id": "1e94e5cc",
   "metadata": {},
   "source": [
    "https://www.kaggle.com/datasets/andrewmvd/data-analyst-jobs"
   ]
  },
  {
   "cell_type": "code",
   "execution_count": 1,
   "id": "81c68a25",
   "metadata": {},
   "outputs": [],
   "source": [
    "import pandas as pd\n",
    "import numpy as np\n",
    "\n",
    "import re\n",
    "from datetime import datetime\n",
    "\n",
    "from kmodes.kmodes import KModes\n",
    "import matplotlib.pyplot as plt\n",
    "\n",
    "from sklearn.feature_extraction.text import TfidfVectorizer\n",
    "from sklearn.decomposition import NMF"
   ]
  },
  {
   "cell_type": "code",
   "execution_count": 2,
   "id": "d3024efa",
   "metadata": {},
   "outputs": [
    {
     "data": {
      "text/html": [
       "<div>\n",
       "<style scoped>\n",
       "    .dataframe tbody tr th:only-of-type {\n",
       "        vertical-align: middle;\n",
       "    }\n",
       "\n",
       "    .dataframe tbody tr th {\n",
       "        vertical-align: top;\n",
       "    }\n",
       "\n",
       "    .dataframe thead th {\n",
       "        text-align: right;\n",
       "    }\n",
       "</style>\n",
       "<table border=\"1\" class=\"dataframe\">\n",
       "  <thead>\n",
       "    <tr style=\"text-align: right;\">\n",
       "      <th></th>\n",
       "      <th>Unnamed: 0</th>\n",
       "      <th>Job Title</th>\n",
       "      <th>Salary Estimate</th>\n",
       "      <th>Job Description</th>\n",
       "      <th>Rating</th>\n",
       "      <th>Company Name</th>\n",
       "      <th>Location</th>\n",
       "      <th>Headquarters</th>\n",
       "      <th>Size</th>\n",
       "      <th>Founded</th>\n",
       "      <th>Type of ownership</th>\n",
       "      <th>Industry</th>\n",
       "      <th>Sector</th>\n",
       "      <th>Revenue</th>\n",
       "      <th>Competitors</th>\n",
       "      <th>Easy Apply</th>\n",
       "    </tr>\n",
       "  </thead>\n",
       "  <tbody>\n",
       "    <tr>\n",
       "      <th>0</th>\n",
       "      <td>0</td>\n",
       "      <td>Data Analyst, Center on Immigration and Justic...</td>\n",
       "      <td>$37K-$66K (Glassdoor est.)</td>\n",
       "      <td>Are you eager to roll up your sleeves and harn...</td>\n",
       "      <td>3.2</td>\n",
       "      <td>Vera Institute of Justice\\n3.2</td>\n",
       "      <td>New York, NY</td>\n",
       "      <td>New York, NY</td>\n",
       "      <td>201 to 500 employees</td>\n",
       "      <td>1961</td>\n",
       "      <td>Nonprofit Organization</td>\n",
       "      <td>Social Assistance</td>\n",
       "      <td>Non-Profit</td>\n",
       "      <td>$100 to $500 million (USD)</td>\n",
       "      <td>-1</td>\n",
       "      <td>True</td>\n",
       "    </tr>\n",
       "    <tr>\n",
       "      <th>1</th>\n",
       "      <td>1</td>\n",
       "      <td>Quality Data Analyst</td>\n",
       "      <td>$37K-$66K (Glassdoor est.)</td>\n",
       "      <td>Overview\\n\\nProvides analytical and technical ...</td>\n",
       "      <td>3.8</td>\n",
       "      <td>Visiting Nurse Service of New York\\n3.8</td>\n",
       "      <td>New York, NY</td>\n",
       "      <td>New York, NY</td>\n",
       "      <td>10000+ employees</td>\n",
       "      <td>1893</td>\n",
       "      <td>Nonprofit Organization</td>\n",
       "      <td>Health Care Services &amp; Hospitals</td>\n",
       "      <td>Health Care</td>\n",
       "      <td>$2 to $5 billion (USD)</td>\n",
       "      <td>-1</td>\n",
       "      <td>-1</td>\n",
       "    </tr>\n",
       "    <tr>\n",
       "      <th>2</th>\n",
       "      <td>2</td>\n",
       "      <td>Senior Data Analyst, Insights &amp; Analytics Team...</td>\n",
       "      <td>$37K-$66K (Glassdoor est.)</td>\n",
       "      <td>We’re looking for a Senior Data Analyst who ha...</td>\n",
       "      <td>3.4</td>\n",
       "      <td>Squarespace\\n3.4</td>\n",
       "      <td>New York, NY</td>\n",
       "      <td>New York, NY</td>\n",
       "      <td>1001 to 5000 employees</td>\n",
       "      <td>2003</td>\n",
       "      <td>Company - Private</td>\n",
       "      <td>Internet</td>\n",
       "      <td>Information Technology</td>\n",
       "      <td>Unknown / Non-Applicable</td>\n",
       "      <td>GoDaddy</td>\n",
       "      <td>-1</td>\n",
       "    </tr>\n",
       "    <tr>\n",
       "      <th>3</th>\n",
       "      <td>3</td>\n",
       "      <td>Data Analyst</td>\n",
       "      <td>$37K-$66K (Glassdoor est.)</td>\n",
       "      <td>Requisition NumberRR-0001939\\nRemote:Yes\\nWe c...</td>\n",
       "      <td>4.1</td>\n",
       "      <td>Celerity\\n4.1</td>\n",
       "      <td>New York, NY</td>\n",
       "      <td>McLean, VA</td>\n",
       "      <td>201 to 500 employees</td>\n",
       "      <td>2002</td>\n",
       "      <td>Subsidiary or Business Segment</td>\n",
       "      <td>IT Services</td>\n",
       "      <td>Information Technology</td>\n",
       "      <td>$50 to $100 million (USD)</td>\n",
       "      <td>-1</td>\n",
       "      <td>-1</td>\n",
       "    </tr>\n",
       "    <tr>\n",
       "      <th>4</th>\n",
       "      <td>4</td>\n",
       "      <td>Reporting Data Analyst</td>\n",
       "      <td>$37K-$66K (Glassdoor est.)</td>\n",
       "      <td>ABOUT FANDUEL GROUP\\n\\nFanDuel Group is a worl...</td>\n",
       "      <td>3.9</td>\n",
       "      <td>FanDuel\\n3.9</td>\n",
       "      <td>New York, NY</td>\n",
       "      <td>New York, NY</td>\n",
       "      <td>501 to 1000 employees</td>\n",
       "      <td>2009</td>\n",
       "      <td>Company - Private</td>\n",
       "      <td>Sports &amp; Recreation</td>\n",
       "      <td>Arts, Entertainment &amp; Recreation</td>\n",
       "      <td>$100 to $500 million (USD)</td>\n",
       "      <td>DraftKings</td>\n",
       "      <td>True</td>\n",
       "    </tr>\n",
       "  </tbody>\n",
       "</table>\n",
       "</div>"
      ],
      "text/plain": [
       "   Unnamed: 0                                          Job Title  \\\n",
       "0           0  Data Analyst, Center on Immigration and Justic...   \n",
       "1           1                               Quality Data Analyst   \n",
       "2           2  Senior Data Analyst, Insights & Analytics Team...   \n",
       "3           3                                       Data Analyst   \n",
       "4           4                             Reporting Data Analyst   \n",
       "\n",
       "              Salary Estimate  \\\n",
       "0  $37K-$66K (Glassdoor est.)   \n",
       "1  $37K-$66K (Glassdoor est.)   \n",
       "2  $37K-$66K (Glassdoor est.)   \n",
       "3  $37K-$66K (Glassdoor est.)   \n",
       "4  $37K-$66K (Glassdoor est.)   \n",
       "\n",
       "                                     Job Description  Rating  \\\n",
       "0  Are you eager to roll up your sleeves and harn...     3.2   \n",
       "1  Overview\\n\\nProvides analytical and technical ...     3.8   \n",
       "2  We’re looking for a Senior Data Analyst who ha...     3.4   \n",
       "3  Requisition NumberRR-0001939\\nRemote:Yes\\nWe c...     4.1   \n",
       "4  ABOUT FANDUEL GROUP\\n\\nFanDuel Group is a worl...     3.9   \n",
       "\n",
       "                              Company Name      Location  Headquarters  \\\n",
       "0           Vera Institute of Justice\\n3.2  New York, NY  New York, NY   \n",
       "1  Visiting Nurse Service of New York\\n3.8  New York, NY  New York, NY   \n",
       "2                         Squarespace\\n3.4  New York, NY  New York, NY   \n",
       "3                            Celerity\\n4.1  New York, NY    McLean, VA   \n",
       "4                             FanDuel\\n3.9  New York, NY  New York, NY   \n",
       "\n",
       "                     Size  Founded               Type of ownership  \\\n",
       "0    201 to 500 employees     1961          Nonprofit Organization   \n",
       "1        10000+ employees     1893          Nonprofit Organization   \n",
       "2  1001 to 5000 employees     2003               Company - Private   \n",
       "3    201 to 500 employees     2002  Subsidiary or Business Segment   \n",
       "4   501 to 1000 employees     2009               Company - Private   \n",
       "\n",
       "                           Industry                            Sector  \\\n",
       "0                 Social Assistance                        Non-Profit   \n",
       "1  Health Care Services & Hospitals                       Health Care   \n",
       "2                          Internet            Information Technology   \n",
       "3                       IT Services            Information Technology   \n",
       "4               Sports & Recreation  Arts, Entertainment & Recreation   \n",
       "\n",
       "                      Revenue Competitors Easy Apply  \n",
       "0  $100 to $500 million (USD)          -1       True  \n",
       "1      $2 to $5 billion (USD)          -1         -1  \n",
       "2    Unknown / Non-Applicable     GoDaddy         -1  \n",
       "3   $50 to $100 million (USD)          -1         -1  \n",
       "4  $100 to $500 million (USD)  DraftKings       True  "
      ]
     },
     "execution_count": 2,
     "metadata": {},
     "output_type": "execute_result"
    }
   ],
   "source": [
    "df = pd.read_csv('DataAnalyst.csv')\n",
    "df.head()"
   ]
  },
  {
   "cell_type": "markdown",
   "id": "ac592566",
   "metadata": {},
   "source": [
    "## Cleaning the Dataset\n",
    "\n",
    "In this dataset, null values are indicated by a \"-1\". Since this won't show up as a null value during data exploration, all values equalling -1 will be converted to NaNs. "
   ]
  },
  {
   "cell_type": "code",
   "execution_count": 3,
   "id": "2e0c7460",
   "metadata": {},
   "outputs": [
    {
     "name": "stdout",
     "output_type": "stream",
     "text": [
      "<class 'pandas.core.frame.DataFrame'>\n",
      "RangeIndex: 2253 entries, 0 to 2252\n",
      "Data columns (total 16 columns):\n",
      " #   Column             Non-Null Count  Dtype \n",
      "---  ------             --------------  ----- \n",
      " 0   Unnamed: 0         2253 non-null   int64 \n",
      " 1   Job Title          2253 non-null   object\n",
      " 2   Salary Estimate    2252 non-null   object\n",
      " 3   Job Description    2253 non-null   object\n",
      " 4   Rating             1981 non-null   object\n",
      " 5   Company Name       2252 non-null   object\n",
      " 6   Location           2253 non-null   object\n",
      " 7   Headquarters       2081 non-null   object\n",
      " 8   Size               2048 non-null   object\n",
      " 9   Founded            1593 non-null   object\n",
      " 10  Type of ownership  2074 non-null   object\n",
      " 11  Industry           1900 non-null   object\n",
      " 12  Sector             1900 non-null   object\n",
      " 13  Revenue            2090 non-null   object\n",
      " 14  Competitors        521 non-null    object\n",
      " 15  Easy Apply         80 non-null     object\n",
      "dtypes: int64(1), object(15)\n",
      "memory usage: 281.8+ KB\n"
     ]
    }
   ],
   "source": [
    "vals_to_replace = [-1, '-1', 'Unknown']\n",
    "df.replace(vals_to_replace, None, inplace=True)\n",
    "df.info()"
   ]
  },
  {
   "cell_type": "code",
   "execution_count": 4,
   "id": "bf57a7d8",
   "metadata": {},
   "outputs": [
    {
     "data": {
      "text/plain": [
       "IT Services                            325\n",
       "Staffing & Outsourcing                 323\n",
       "Health Care Services & Hospitals       151\n",
       "Computer Hardware & Software           111\n",
       "Consulting                             111\n",
       "                                      ... \n",
       "Truck Rental & Leasing                   1\n",
       "News Outlet                              1\n",
       "Catering & Food Service Contractors      1\n",
       "Chemical Manufacturing                   1\n",
       "Hotels, Motels, & Resorts                1\n",
       "Name: Industry, Length: 88, dtype: int64"
      ]
     },
     "execution_count": 4,
     "metadata": {},
     "output_type": "execute_result"
    }
   ],
   "source": [
    "# Sample of attribute exploration. This has been performed for all features, but only one sample attribute has been kept\n",
    "# as to reduce the amount of space taken up by this step of the analysis. \n",
    "df['Industry'].value_counts()"
   ]
  },
  {
   "attachments": {},
   "cell_type": "markdown",
   "id": "e69f8d5c",
   "metadata": {},
   "source": [
    "The attributes \"Competitors\" and \"Easy Apply\" will be dropped, as they contain mostly null values and are of little interest to this assessment. \n",
    "\n",
    "Moving forward, this analysis will make the presumption that job seekers generally care about some of these remaining attributes far more than others. The goal in this feature selection will be to best map this preference in a workable way. The additional attributes that will be dropped are:\n",
    "- \"Company Name\": important to the job seeker, but not useful in clustering when there are no associated company features by which to compare companies to each other. \n",
    "- \"Headquarters\": Most job seekers likely do not hold strong preferences here.\n",
    "- \"Type of ownership\": Heavily imbalanced and usually of relatively little consideration.\n",
    "- \"Revenue\": A plurality of these are unknown, and startup status will be captured by other features. \n",
    "\n",
    "The follow attributes will be reworked into new ones:\n",
    "- \"Unnamed: 0\": Will be renamed as \"Job ID\" for the purpose of this analysis. \n",
    "- \"Job Title\": Will need to be reduced into more easily useable bins, as many job titles are tantamount to each other and differ primarily in a semantic sense. \n",
    "- \"Salary Estimate\": Will be converted into a more useable numeric format consisting of the median between the two values.\n",
    "- \"Job Description\": Will be vectorized as to be useable by data analysis tools.\n",
    "- \"Founded\": Will be converted to \"Company Age\", then binned. This should be useful as job seekers likely have a preference in working for a recent startup or not. \n",
    "\n",
    "The 'Industry' attribute is a special case. While it could be rather useful, it is highly obfuscated by the fact that many jobs are listed through a staffing agency that are irrelevant to the job itself. Additionally, the \"Sector\" attribute already captures much of the desired information of this type. However, it will be useful to keep this attribute around in order to differentiate between jobs posted via a staffing agency and jobs posted otherwise. Therefore, null values in this column will simply be imputed with the attribute mode of \"IT Services\"."
   ]
  },
  {
   "cell_type": "code",
   "execution_count": 5,
   "id": "bef0e2e8",
   "metadata": {},
   "outputs": [
    {
     "name": "stdout",
     "output_type": "stream",
     "text": [
      "<class 'pandas.core.frame.DataFrame'>\n",
      "RangeIndex: 2253 entries, 0 to 2252\n",
      "Data columns (total 10 columns):\n",
      " #   Column           Non-Null Count  Dtype \n",
      "---  ------           --------------  ----- \n",
      " 0   Job ID           2253 non-null   int64 \n",
      " 1   Job Title        2253 non-null   object\n",
      " 2   Salary Estimate  2252 non-null   object\n",
      " 3   Job Description  2253 non-null   object\n",
      " 4   Rating           1981 non-null   object\n",
      " 5   Location         2253 non-null   object\n",
      " 6   Size             2048 non-null   object\n",
      " 7   Founded          1593 non-null   object\n",
      " 8   Industry         2253 non-null   object\n",
      " 9   Sector           1900 non-null   object\n",
      "dtypes: int64(1), object(9)\n",
      "memory usage: 176.1+ KB\n"
     ]
    }
   ],
   "source": [
    "# Dropping the unnecessary columns\n",
    "cols_to_drop = ['Competitors', 'Easy Apply', 'Company Name', 'Headquarters', 'Type of ownership', 'Revenue']\n",
    "df.drop(cols_to_drop, axis=1, inplace=True)\n",
    "\n",
    "# Renaming the ID column\n",
    "df.rename(columns={'Unnamed: 0': 'Job ID'}, inplace=True)\n",
    "\n",
    "# Filling the null values in the 'Industry' column with the mode.\n",
    "df['Industry'].fillna('IT Services', inplace=True)\n",
    "\n",
    "df.info()"
   ]
  },
  {
   "cell_type": "markdown",
   "id": "9f47e711",
   "metadata": {},
   "source": [
    "Since the 'Founded' attributes contains significantly more null values than the other columns, the null values will be imputed with the attribute median. The median is used in this case to account for the skew of the data, represented in the histogram below. \n",
    "\n",
    "Other values that are straightforward to impute, such as the numeric values of 'Rating', will be similarly handled. "
   ]
  },
  {
   "cell_type": "code",
   "execution_count": 6,
   "id": "e3a4ff7b",
   "metadata": {},
   "outputs": [
    {
     "data": {
      "text/plain": [
       "<AxesSubplot: title={'center': 'Year Founded'}, ylabel='Frequency'>"
      ]
     },
     "execution_count": 6,
     "metadata": {},
     "output_type": "execute_result"
    },
    {
     "data": {
      "image/png": "[encoded data removed]",
      "text/plain": [
       "<Figure size 640x480 with 1 Axes>"
      ]
     },
     "metadata": {},
     "output_type": "display_data"
    }
   ],
   "source": [
    "df['Founded'].plot(kind='hist', title='Year Founded')"
   ]
  },
  {
   "cell_type": "code",
   "execution_count": 7,
   "id": "b42cda2c",
   "metadata": {},
   "outputs": [
    {
     "data": {
      "text/plain": [
       "<AxesSubplot: title={'center': 'Rating'}, ylabel='Frequency'>"
      ]
     },
     "execution_count": 7,
     "metadata": {},
     "output_type": "execute_result"
    },
    {
     "data": {
      "image/png": "[encoded data removed]",
      "text/plain": [
       "<Figure size 640x480 with 1 Axes>"
      ]
     },
     "metadata": {},
     "output_type": "display_data"
    }
   ],
   "source": [
    "df['Rating'].plot(kind='hist', title='Rating')"
   ]
  },
  {
   "cell_type": "code",
   "execution_count": 8,
   "id": "30066315",
   "metadata": {},
   "outputs": [
    {
     "name": "stdout",
     "output_type": "stream",
     "text": [
      "<class 'pandas.core.frame.DataFrame'>\n",
      "Int64Index: 1891 entries, 0 to 2252\n",
      "Data columns (total 10 columns):\n",
      " #   Column           Non-Null Count  Dtype  \n",
      "---  ------           --------------  -----  \n",
      " 0   Job ID           1891 non-null   int64  \n",
      " 1   Job Title        1891 non-null   object \n",
      " 2   Salary Estimate  1891 non-null   object \n",
      " 3   Job Description  1891 non-null   object \n",
      " 4   Rating           1891 non-null   float64\n",
      " 5   Location         1891 non-null   object \n",
      " 6   Size             1891 non-null   object \n",
      " 7   Founded          1891 non-null   float64\n",
      " 8   Industry         1891 non-null   object \n",
      " 9   Sector           1891 non-null   object \n",
      "dtypes: float64(2), int64(1), object(7)\n",
      "memory usage: 162.5+ KB\n"
     ]
    }
   ],
   "source": [
    "df['Founded'].fillna(df['Founded'].median(), inplace=True)\n",
    "df['Rating'].fillna(df['Rating'].median(), inplace=True)\n",
    "df.dropna(inplace=True)\n",
    "df.info()"
   ]
  },
  {
   "cell_type": "markdown",
   "id": "cebd5d8e",
   "metadata": {},
   "source": [
    "Dropping the null values after imputation results in merely a 16% reduction of the dataset vs 31% without the imputation. \n",
    "\n",
    "Next, values in 'Salary Estimate' will be replaced with the mean of their range. A function will loop through the database here, as it is more complex than a simple mathematical computation of an existing numeric attribute. The 'findall' regex function makes this more difficult to weave into a Pandas replace function. "
   ]
  },
  {
   "cell_type": "code",
   "execution_count": 9,
   "id": "c4e36887",
   "metadata": {},
   "outputs": [
    {
     "data": {
      "text/html": [
       "<div>\n",
       "<style scoped>\n",
       "    .dataframe tbody tr th:only-of-type {\n",
       "        vertical-align: middle;\n",
       "    }\n",
       "\n",
       "    .dataframe tbody tr th {\n",
       "        vertical-align: top;\n",
       "    }\n",
       "\n",
       "    .dataframe thead th {\n",
       "        text-align: right;\n",
       "    }\n",
       "</style>\n",
       "<table border=\"1\" class=\"dataframe\">\n",
       "  <thead>\n",
       "    <tr style=\"text-align: right;\">\n",
       "      <th></th>\n",
       "      <th>Job ID</th>\n",
       "      <th>Job Title</th>\n",
       "      <th>Salary Estimate</th>\n",
       "      <th>Job Description</th>\n",
       "      <th>Rating</th>\n",
       "      <th>Location</th>\n",
       "      <th>Size</th>\n",
       "      <th>Founded</th>\n",
       "      <th>Industry</th>\n",
       "      <th>Sector</th>\n",
       "    </tr>\n",
       "  </thead>\n",
       "  <tbody>\n",
       "    <tr>\n",
       "      <th>0</th>\n",
       "      <td>0</td>\n",
       "      <td>Data Analyst, Center on Immigration and Justic...</td>\n",
       "      <td>51.5</td>\n",
       "      <td>Are you eager to roll up your sleeves and harn...</td>\n",
       "      <td>3.2</td>\n",
       "      <td>New York, NY</td>\n",
       "      <td>201 to 500 employees</td>\n",
       "      <td>1961.0</td>\n",
       "      <td>Social Assistance</td>\n",
       "      <td>Non-Profit</td>\n",
       "    </tr>\n",
       "    <tr>\n",
       "      <th>1</th>\n",
       "      <td>1</td>\n",
       "      <td>Quality Data Analyst</td>\n",
       "      <td>51.5</td>\n",
       "      <td>Overview\\n\\nProvides analytical and technical ...</td>\n",
       "      <td>3.8</td>\n",
       "      <td>New York, NY</td>\n",
       "      <td>10000+ employees</td>\n",
       "      <td>1893.0</td>\n",
       "      <td>Health Care Services &amp; Hospitals</td>\n",
       "      <td>Health Care</td>\n",
       "    </tr>\n",
       "    <tr>\n",
       "      <th>2</th>\n",
       "      <td>2</td>\n",
       "      <td>Senior Data Analyst, Insights &amp; Analytics Team...</td>\n",
       "      <td>51.5</td>\n",
       "      <td>We’re looking for a Senior Data Analyst who ha...</td>\n",
       "      <td>3.4</td>\n",
       "      <td>New York, NY</td>\n",
       "      <td>1001 to 5000 employees</td>\n",
       "      <td>2003.0</td>\n",
       "      <td>Internet</td>\n",
       "      <td>Information Technology</td>\n",
       "    </tr>\n",
       "    <tr>\n",
       "      <th>3</th>\n",
       "      <td>3</td>\n",
       "      <td>Data Analyst</td>\n",
       "      <td>51.5</td>\n",
       "      <td>Requisition NumberRR-0001939\\nRemote:Yes\\nWe c...</td>\n",
       "      <td>4.1</td>\n",
       "      <td>New York, NY</td>\n",
       "      <td>201 to 500 employees</td>\n",
       "      <td>2002.0</td>\n",
       "      <td>IT Services</td>\n",
       "      <td>Information Technology</td>\n",
       "    </tr>\n",
       "    <tr>\n",
       "      <th>4</th>\n",
       "      <td>4</td>\n",
       "      <td>Reporting Data Analyst</td>\n",
       "      <td>51.5</td>\n",
       "      <td>ABOUT FANDUEL GROUP\\n\\nFanDuel Group is a worl...</td>\n",
       "      <td>3.9</td>\n",
       "      <td>New York, NY</td>\n",
       "      <td>501 to 1000 employees</td>\n",
       "      <td>2009.0</td>\n",
       "      <td>Sports &amp; Recreation</td>\n",
       "      <td>Arts, Entertainment &amp; Recreation</td>\n",
       "    </tr>\n",
       "  </tbody>\n",
       "</table>\n",
       "</div>"
      ],
      "text/plain": [
       "   Job ID                                          Job Title Salary Estimate  \\\n",
       "0       0  Data Analyst, Center on Immigration and Justic...            51.5   \n",
       "1       1                               Quality Data Analyst            51.5   \n",
       "2       2  Senior Data Analyst, Insights & Analytics Team...            51.5   \n",
       "3       3                                       Data Analyst            51.5   \n",
       "4       4                             Reporting Data Analyst            51.5   \n",
       "\n",
       "                                     Job Description  Rating      Location  \\\n",
       "0  Are you eager to roll up your sleeves and harn...     3.2  New York, NY   \n",
       "1  Overview\\n\\nProvides analytical and technical ...     3.8  New York, NY   \n",
       "2  We’re looking for a Senior Data Analyst who ha...     3.4  New York, NY   \n",
       "3  Requisition NumberRR-0001939\\nRemote:Yes\\nWe c...     4.1  New York, NY   \n",
       "4  ABOUT FANDUEL GROUP\\n\\nFanDuel Group is a worl...     3.9  New York, NY   \n",
       "\n",
       "                     Size  Founded                          Industry  \\\n",
       "0    201 to 500 employees   1961.0                 Social Assistance   \n",
       "1        10000+ employees   1893.0  Health Care Services & Hospitals   \n",
       "2  1001 to 5000 employees   2003.0                          Internet   \n",
       "3    201 to 500 employees   2002.0                       IT Services   \n",
       "4   501 to 1000 employees   2009.0               Sports & Recreation   \n",
       "\n",
       "                             Sector  \n",
       "0                        Non-Profit  \n",
       "1                       Health Care  \n",
       "2            Information Technology  \n",
       "3            Information Technology  \n",
       "4  Arts, Entertainment & Recreation  "
      ]
     },
     "execution_count": 9,
     "metadata": {},
     "output_type": "execute_result"
    }
   ],
   "source": [
    "for i in range(len(df['Salary Estimate'])):\n",
    "    text = df.iloc[i, 2]\n",
    "    new_vals = re.findall('[0-9]+𝐾*', text)\n",
    "    new_vals = list(map(int, new_vals))\n",
    "    new_mean = np.mean(new_vals)\n",
    "    df.iloc[i, 2] = new_mean\n",
    "\n",
    "df.head()"
   ]
  },
  {
   "cell_type": "markdown",
   "id": "db15ab45",
   "metadata": {},
   "source": [
    "As seen above, 'Salary Estimate' values have been successfully replaced. Below, a distribution is shown, as well as some key metrics."
   ]
  },
  {
   "cell_type": "code",
   "execution_count": 10,
   "id": "897cab49",
   "metadata": {},
   "outputs": [
    {
     "name": "stdout",
     "output_type": "stream",
     "text": [
      "Average Salary: 72012.0\n",
      "Median Salary: 68500.0\n"
     ]
    },
    {
     "data": {
      "image/png": "[encoded data removed]",
      "text/plain": [
       "<Figure size 640x480 with 1 Axes>"
      ]
     },
     "metadata": {},
     "output_type": "display_data"
    }
   ],
   "source": [
    "df['Salary Estimate'].plot(kind='hist', title='Data Analyst Salaries', bins=15)\n",
    "sal_mean = df['Salary Estimate'].mean() * 1000\n",
    "sal_med = df['Salary Estimate'].median() * 1000\n",
    "print(f'Average Salary: {np.round(sal_mean)}\\nMedian Salary: {sal_med}')"
   ]
  },
  {
   "cell_type": "markdown",
   "id": "f5e43e32",
   "metadata": {},
   "source": [
    "Moving onto 'Job Title', the below list gives the 25 most frequent job titles. The primary keywords indicating seniority are used to remape the values of the column into a binary senior/non-senior variable. This removes particularities of naming conventions and makes job titles more comparable. The is a risk here that the non-senior title also contains more senior positions, but this is mitigated by the fact that the imputed senior title should be very pure. "
   ]
  },
  {
   "cell_type": "code",
   "execution_count": 11,
   "id": "5ab46102",
   "metadata": {},
   "outputs": [
    {
     "data": {
      "text/plain": [
       "Data Analyst                            333\n",
       "Senior Data Analyst                      77\n",
       "Junior Data Analyst                      30\n",
       "Business Data Analyst                    25\n",
       "Data Analyst Junior                      17\n",
       "Sr. Data Analyst                         17\n",
       "Data Quality Analyst                     17\n",
       "Data Analyst II                          14\n",
       "Lead Data Analyst                        13\n",
       "Data Governance Analyst                  13\n",
       "Data Reporting Analyst                   12\n",
       "Data Analyst I                           10\n",
       "Data Analyst III                         10\n",
       "Sr Data Analyst                           9\n",
       "Financial Data Analyst                    9\n",
       "Marketing Data Analyst                    7\n",
       "SQL Data Analyst                          7\n",
       "Data Management Analyst                   7\n",
       "Data Security Analyst                     6\n",
       "Data Warehouse Analyst                    6\n",
       "Technical Data Analyst                    6\n",
       "Clinical Data Analyst                     5\n",
       "Product Data Analyst                      5\n",
       "NY Healthcare Data/Reporting Analyst      4\n",
       "Data Base Programmer/Analyst              4\n",
       "Name: Job Title, dtype: int64"
      ]
     },
     "execution_count": 11,
     "metadata": {},
     "output_type": "execute_result"
    }
   ],
   "source": [
    "df['Job Title'].value_counts()[:25]"
   ]
  },
  {
   "cell_type": "code",
   "execution_count": 12,
   "id": "0f34fce6",
   "metadata": {},
   "outputs": [
    {
     "data": {
      "text/plain": [
       "0    1465\n",
       "1     426\n",
       "Name: Senior Position, dtype: int64"
      ]
     },
     "execution_count": 12,
     "metadata": {},
     "output_type": "execute_result"
    }
   ],
   "source": [
    "sr_titles = ['senior', 'sr', 'ii', 'iii', '2', '3']\n",
    "\n",
    "# Removes puncuation from job title, converts to lowercase, and splits into a list of individual words. \n",
    "df['Job Title'] = df['Job Title'].str.replace(r'[^\\w\\s]+', '', regex=True)\n",
    "df['Job Title'] = df['Job Title'].str.lower()\n",
    "df['Job Title'] = df['Job Title'].str.split(' ')\n",
    "\n",
    "# Checks if a keyword denoting seniority is present and replaces title with one of two values.\n",
    "df['Job Title'] = df['Job Title'].apply(lambda x: 1 if [i for i in x if i in sr_titles] else 0)\n",
    "\n",
    "# Renaming to account for a boolean variable\n",
    "df.rename(columns={'Job Title': 'Senior Position'}, inplace=True)\n",
    "df['Senior Position'].value_counts()"
   ]
  },
  {
   "cell_type": "code",
   "execution_count": 13,
   "id": "32fce7db",
   "metadata": {},
   "outputs": [
    {
     "data": {
      "text/plain": [
       "Senior Position\n",
       "0    71386.006826\n",
       "1    74163.145540\n",
       "Name: Salary Estimate, dtype: float64"
      ]
     },
     "execution_count": 13,
     "metadata": {},
     "output_type": "execute_result"
    }
   ],
   "source": [
    "# Calculation of average salaries for positions labeled senior or otherwise. \n",
    "df.groupby('Senior Position')['Salary Estimate'].mean()*1000"
   ]
  },
  {
   "cell_type": "markdown",
   "id": "d72501e6",
   "metadata": {},
   "source": [
    "It can be seen above that a position indicated as senior makes slightly more than otherwise. This is likely because many positions within the more general data analyst titles require levels of seniority that are not necessarily reflected in the title. \n",
    "\n",
    "For the next step in cleaning the dataset, \"Founded\" will be converted to company age.\n",
    "\n",
    "Additionally, location will be reduced to a simple state category rather than specifying the city. This will reduce the granularity, but that will likely be more useful given that the dataset is not large enough to make use of higher granularity. "
   ]
  },
  {
   "cell_type": "code",
   "execution_count": 14,
   "id": "cb1eb66e",
   "metadata": {},
   "outputs": [
    {
     "data": {
      "text/html": [
       "<div>\n",
       "<style scoped>\n",
       "    .dataframe tbody tr th:only-of-type {\n",
       "        vertical-align: middle;\n",
       "    }\n",
       "\n",
       "    .dataframe tbody tr th {\n",
       "        vertical-align: top;\n",
       "    }\n",
       "\n",
       "    .dataframe thead th {\n",
       "        text-align: right;\n",
       "    }\n",
       "</style>\n",
       "<table border=\"1\" class=\"dataframe\">\n",
       "  <thead>\n",
       "    <tr style=\"text-align: right;\">\n",
       "      <th></th>\n",
       "      <th>Job ID</th>\n",
       "      <th>Senior Position</th>\n",
       "      <th>Salary Estimate</th>\n",
       "      <th>Job Description</th>\n",
       "      <th>Rating</th>\n",
       "      <th>Location</th>\n",
       "      <th>Size</th>\n",
       "      <th>Company Age</th>\n",
       "      <th>Industry</th>\n",
       "      <th>Sector</th>\n",
       "    </tr>\n",
       "  </thead>\n",
       "  <tbody>\n",
       "    <tr>\n",
       "      <th>0</th>\n",
       "      <td>0</td>\n",
       "      <td>0</td>\n",
       "      <td>51.5</td>\n",
       "      <td>Are you eager to roll up your sleeves and harn...</td>\n",
       "      <td>3.2</td>\n",
       "      <td>NY</td>\n",
       "      <td>201 to 500 employees</td>\n",
       "      <td>62.0</td>\n",
       "      <td>Social Assistance</td>\n",
       "      <td>Non-Profit</td>\n",
       "    </tr>\n",
       "    <tr>\n",
       "      <th>1</th>\n",
       "      <td>1</td>\n",
       "      <td>0</td>\n",
       "      <td>51.5</td>\n",
       "      <td>Overview\\n\\nProvides analytical and technical ...</td>\n",
       "      <td>3.8</td>\n",
       "      <td>NY</td>\n",
       "      <td>10000+ employees</td>\n",
       "      <td>130.0</td>\n",
       "      <td>Health Care Services &amp; Hospitals</td>\n",
       "      <td>Health Care</td>\n",
       "    </tr>\n",
       "    <tr>\n",
       "      <th>2</th>\n",
       "      <td>2</td>\n",
       "      <td>1</td>\n",
       "      <td>51.5</td>\n",
       "      <td>We’re looking for a Senior Data Analyst who ha...</td>\n",
       "      <td>3.4</td>\n",
       "      <td>NY</td>\n",
       "      <td>1001 to 5000 employees</td>\n",
       "      <td>20.0</td>\n",
       "      <td>Internet</td>\n",
       "      <td>Information Technology</td>\n",
       "    </tr>\n",
       "    <tr>\n",
       "      <th>3</th>\n",
       "      <td>3</td>\n",
       "      <td>0</td>\n",
       "      <td>51.5</td>\n",
       "      <td>Requisition NumberRR-0001939\\nRemote:Yes\\nWe c...</td>\n",
       "      <td>4.1</td>\n",
       "      <td>NY</td>\n",
       "      <td>201 to 500 employees</td>\n",
       "      <td>21.0</td>\n",
       "      <td>IT Services</td>\n",
       "      <td>Information Technology</td>\n",
       "    </tr>\n",
       "    <tr>\n",
       "      <th>4</th>\n",
       "      <td>4</td>\n",
       "      <td>0</td>\n",
       "      <td>51.5</td>\n",
       "      <td>ABOUT FANDUEL GROUP\\n\\nFanDuel Group is a worl...</td>\n",
       "      <td>3.9</td>\n",
       "      <td>NY</td>\n",
       "      <td>501 to 1000 employees</td>\n",
       "      <td>14.0</td>\n",
       "      <td>Sports &amp; Recreation</td>\n",
       "      <td>Arts, Entertainment &amp; Recreation</td>\n",
       "    </tr>\n",
       "  </tbody>\n",
       "</table>\n",
       "</div>"
      ],
      "text/plain": [
       "   Job ID  Senior Position Salary Estimate  \\\n",
       "0       0                0            51.5   \n",
       "1       1                0            51.5   \n",
       "2       2                1            51.5   \n",
       "3       3                0            51.5   \n",
       "4       4                0            51.5   \n",
       "\n",
       "                                     Job Description  Rating Location  \\\n",
       "0  Are you eager to roll up your sleeves and harn...     3.2       NY   \n",
       "1  Overview\\n\\nProvides analytical and technical ...     3.8       NY   \n",
       "2  We’re looking for a Senior Data Analyst who ha...     3.4       NY   \n",
       "3  Requisition NumberRR-0001939\\nRemote:Yes\\nWe c...     4.1       NY   \n",
       "4  ABOUT FANDUEL GROUP\\n\\nFanDuel Group is a worl...     3.9       NY   \n",
       "\n",
       "                     Size  Company Age                          Industry  \\\n",
       "0    201 to 500 employees         62.0                 Social Assistance   \n",
       "1        10000+ employees        130.0  Health Care Services & Hospitals   \n",
       "2  1001 to 5000 employees         20.0                          Internet   \n",
       "3    201 to 500 employees         21.0                       IT Services   \n",
       "4   501 to 1000 employees         14.0               Sports & Recreation   \n",
       "\n",
       "                             Sector  \n",
       "0                        Non-Profit  \n",
       "1                       Health Care  \n",
       "2            Information Technology  \n",
       "3            Information Technology  \n",
       "4  Arts, Entertainment & Recreation  "
      ]
     },
     "execution_count": 14,
     "metadata": {},
     "output_type": "execute_result"
    }
   ],
   "source": [
    "# Obtains the current year and replaces the year founded with the company age.\n",
    "current_year = datetime.now().year\n",
    "df['Founded'] = current_year - df['Founded']\n",
    "df.rename(columns={'Founded': 'Company Age'}, inplace=True)\n",
    "\n",
    "# Bins the values by quartile. Not used in this version. \n",
    "#df['Company Age'] =  pd.qcut(df['Company Age'], q=4)\n",
    "\n",
    "# Location attribute reduced to state. \n",
    "df['Location'] = df['Location'].str.split(', ')\n",
    "df['Location'] = df['Location'].apply(lambda x: x[-1])\n",
    "\n",
    "df.head()"
   ]
  },
  {
   "cell_type": "code",
   "execution_count": 15,
   "id": "e3ae5768",
   "metadata": {},
   "outputs": [],
   "source": [
    "# Removes the EEOC statement from the end of the job postings.\n",
    "trunc = 'opportunity employer'\n",
    "df['Job Description'] = df['Job Description'].apply(lambda x: x[:x.lower().find(trunc)] if trunc in x.lower() else x)\n",
    "\n",
    "trunc2 = 'equal opportunity'\n",
    "df['Job Description'] = df['Job Description'].apply(lambda x: x[:x.lower().find(trunc2)] if trunc2 in x.lower() else x)"
   ]
  },
  {
   "cell_type": "markdown",
   "id": "54ee43f1",
   "metadata": {},
   "source": [
    "The dataset is now in a much cleaner and useable format that will be used in multiple applications downstream.\n",
    "\n",
    "## K-Modes Clustering\n",
    "\n",
    "K-means (or k-medians) clustering is a populat and useful technique for clustering numeric values. However, it does not work well with categorical variables. K-modes is a more recently adapted application that allows for clustering of categorical variables. \n",
    "\n",
    "First, some additional tweaking of the dataset will be performed in order to prepare it for this specific application. It is typical to log-scale numeric attributes with significant variation. In this case, note that while 'Company Age' is scaled logarithmically, salary estimate is not. This is meant to give more weight to the salary component in clustering, as that is typically of greater interest to candidates than the age of the company.\n",
    "\n",
    "This portion of the project aims to cluster companies in the dataset. Therefore, attributes such as \"Job ID\" and \"Senior Position\" will be dropped, as they pertain to specific roles and not companies. "
   ]
  },
  {
   "cell_type": "code",
   "execution_count": 16,
   "id": "40b0f539",
   "metadata": {},
   "outputs": [
    {
     "name": "stdout",
     "output_type": "stream",
     "text": [
      "<class 'pandas.core.frame.DataFrame'>\n",
      "Int64Index: 1571 entries, 0 to 2252\n",
      "Data columns (total 6 columns):\n",
      " #   Column           Non-Null Count  Dtype  \n",
      "---  ------           --------------  -----  \n",
      " 0   Salary Estimate  1571 non-null   object \n",
      " 1   Rating           1571 non-null   float64\n",
      " 2   Location         1571 non-null   object \n",
      " 3   Size             1571 non-null   object \n",
      " 4   Company Age      1571 non-null   float64\n",
      " 5   Sector           1571 non-null   object \n",
      "dtypes: float64(2), object(4)\n",
      "memory usage: 85.9+ KB\n"
     ]
    }
   ],
   "source": [
    "# Dropping the ID as well as the lengthy job descriptions text for now.\n",
    "#df_kmodes = df.drop(['Job ID', 'Job Description'], axis=1)\n",
    "\n",
    "# Dropping the attributes that pertain to the specific job posting to look for clustering in the companies.\n",
    "df_kmodes = df.drop(['Job ID', 'Senior Position', 'Job Description'], axis=1)\n",
    "df_kmodes.drop(df_kmodes[df_kmodes['Industry'] == 'Staffing & Outsourcing'].index, inplace=True)\n",
    "\n",
    "# Now that 'Industry' has been used to drop staffing companies, it will be dropped due to the aforementioned reasons.\n",
    "df_kmodes.drop('Industry', axis=1, inplace=True)\n",
    "\n",
    "# Normalizing the more variable numeric features by taking their logs.\n",
    "df_kmodes['Company Age'] = np.log(df_kmodes['Company Age'].tolist())\n",
    "# Salaries are not scaled in this version. \n",
    "#df_kmodes['Salary Estimate'] = np.log(df_kmodes['Salary Estimate'].tolist())\n",
    "\n",
    "df_kmodes.info()"
   ]
  },
  {
   "cell_type": "code",
   "execution_count": 17,
   "id": "a3bf8343",
   "metadata": {},
   "outputs": [
    {
     "data": {
      "text/plain": [
       "[<matplotlib.lines.Line2D at 0x2255414feb0>]"
      ]
     },
     "execution_count": 17,
     "metadata": {},
     "output_type": "execute_result"
    },
    {
     "data": {
      "image/png": "[encoded data removed]",
      "text/plain": [
       "<Figure size 640x480 with 1 Axes>"
      ]
     },
     "metadata": {},
     "output_type": "display_data"
    }
   ],
   "source": [
    "kmodes_costs = []\n",
    "k_range = range(1, 30)\n",
    "\n",
    "for k in k_range:\n",
    "    kmode = KModes(n_clusters=k, init = \"random\", n_init = 5, verbose=0)\n",
    "    kmode.fit_predict(df_kmodes)\n",
    "    kmodes_costs.append(kmode.cost_)\n",
    "    \n",
    "plt.plot(k_range, kmodes_costs)"
   ]
  },
  {
   "cell_type": "markdown",
   "id": "49833e5a",
   "metadata": {},
   "source": [
    "The elbow plot doesn't show a clear hinge that would indicate leveling off. This is likely due to the fact that the clusters have quite a large amount of natural overlap, which would be expected with this dataset. For example, even if high-paying companies tend to exist in California, many other high-paying companies exist in conceivably every state in this analysis. \n",
    "\n",
    "It is highly preferred to keep the number of clusters minimal if possible, for reasons of overfitting and interpretability. With this is mind, much of the sharpness of decline seems to end at around k=6, so that will be used moving forward. Analysis using a greater number of clusters can be assessed if desired.\n",
    "\n",
    "Using this number of clusters, the data indicate some interesting trends. A few sample clusters of companies from the results are as follows:\n",
    "\n",
    "#TODO: update these depending on which k is used.\n",
    "- Cluster #0: High salary, decent ratings, located in California, relatively small and young, associated with IT.\n",
    "- Cluster #2: Low salary, average ratings, located in Philadelphia, rather large, associated with healthcare.\n",
    "- Cluster #5: Decent salary, high ratings, located in Texas, relatively small and young, associated with IT."
   ]
  },
  {
   "cell_type": "code",
   "execution_count": 18,
   "id": "0838175f",
   "metadata": {},
   "outputs": [],
   "source": [
    "kmodes = KModes(n_clusters=6, init = \"random\", n_init = 5, verbose=0)\n",
    "kmodes.fit_predict(df_kmodes)\n",
    "kmodes_results = kmodes.cluster_centroids_"
   ]
  },
  {
   "cell_type": "code",
   "execution_count": 19,
   "id": "f432a190",
   "metadata": {},
   "outputs": [
    {
     "data": {
      "text/html": [
       "<div>\n",
       "<style scoped>\n",
       "    .dataframe tbody tr th:only-of-type {\n",
       "        vertical-align: middle;\n",
       "    }\n",
       "\n",
       "    .dataframe tbody tr th {\n",
       "        vertical-align: top;\n",
       "    }\n",
       "\n",
       "    .dataframe thead th {\n",
       "        text-align: right;\n",
       "    }\n",
       "</style>\n",
       "<table border=\"1\" class=\"dataframe\">\n",
       "  <thead>\n",
       "    <tr style=\"text-align: right;\">\n",
       "      <th></th>\n",
       "      <th>Salary Estimate</th>\n",
       "      <th>Rating</th>\n",
       "      <th>Location</th>\n",
       "      <th>Size</th>\n",
       "      <th>Company Age</th>\n",
       "      <th>Sector</th>\n",
       "    </tr>\n",
       "  </thead>\n",
       "  <tbody>\n",
       "    <tr>\n",
       "      <th>0</th>\n",
       "      <td>72.0</td>\n",
       "      <td>3.8</td>\n",
       "      <td>NY</td>\n",
       "      <td>10000+ employees</td>\n",
       "      <td>26.0</td>\n",
       "      <td>Health Care</td>\n",
       "    </tr>\n",
       "    <tr>\n",
       "      <th>1</th>\n",
       "      <td>59.5</td>\n",
       "      <td>3.7</td>\n",
       "      <td>CA</td>\n",
       "      <td>1 to 50 employees</td>\n",
       "      <td>26.0</td>\n",
       "      <td>Business Services</td>\n",
       "    </tr>\n",
       "    <tr>\n",
       "      <th>2</th>\n",
       "      <td>73.5</td>\n",
       "      <td>3.6</td>\n",
       "      <td>CA</td>\n",
       "      <td>1001 to 5000 employees</td>\n",
       "      <td>26.0</td>\n",
       "      <td>Finance</td>\n",
       "    </tr>\n",
       "    <tr>\n",
       "      <th>3</th>\n",
       "      <td>59.0</td>\n",
       "      <td>3.3</td>\n",
       "      <td>TX</td>\n",
       "      <td>1001 to 5000 employees</td>\n",
       "      <td>26.0</td>\n",
       "      <td>Information Technology</td>\n",
       "    </tr>\n",
       "    <tr>\n",
       "      <th>4</th>\n",
       "      <td>80.5</td>\n",
       "      <td>5.0</td>\n",
       "      <td>CA</td>\n",
       "      <td>51 to 200 employees</td>\n",
       "      <td>15.0</td>\n",
       "      <td>Information Technology</td>\n",
       "    </tr>\n",
       "    <tr>\n",
       "      <th>5</th>\n",
       "      <td>77.5</td>\n",
       "      <td>3.2</td>\n",
       "      <td>IL</td>\n",
       "      <td>10000+ employees</td>\n",
       "      <td>224.0</td>\n",
       "      <td>Finance</td>\n",
       "    </tr>\n",
       "  </tbody>\n",
       "</table>\n",
       "</div>"
      ],
      "text/plain": [
       "  Salary Estimate Rating Location                    Size  Company Age  \\\n",
       "0            72.0    3.8       NY        10000+ employees         26.0   \n",
       "1            59.5    3.7       CA       1 to 50 employees         26.0   \n",
       "2            73.5    3.6       CA  1001 to 5000 employees         26.0   \n",
       "3            59.0    3.3       TX  1001 to 5000 employees         26.0   \n",
       "4            80.5    5.0       CA     51 to 200 employees         15.0   \n",
       "5            77.5    3.2       IL        10000+ employees        224.0   \n",
       "\n",
       "                   Sector  \n",
       "0             Health Care  \n",
       "1       Business Services  \n",
       "2                 Finance  \n",
       "3  Information Technology  \n",
       "4  Information Technology  \n",
       "5                 Finance  "
      ]
     },
     "execution_count": 19,
     "metadata": {},
     "output_type": "execute_result"
    }
   ],
   "source": [
    "df_kmodes_results = pd.DataFrame(kmodes_results, columns=df_kmodes.columns)\n",
    "\n",
    "# Converting the log-scaled attributes back to their original form.\n",
    "# Salaries were not scaled in this version. \n",
    "#df_kmodes_results['Salary Estimate'] = np.exp(df_kmodes_results['Salary Estimate'].astype(float))\n",
    "df_kmodes_results['Company Age'] = np.exp(df_kmodes_results['Company Age'].astype(float))\n",
    "\n",
    "df_kmodes_results"
   ]
  },
  {
   "cell_type": "markdown",
   "id": "a8daf769",
   "metadata": {},
   "source": [
    "## NMF of Job Description Text"
   ]
  },
  {
   "cell_type": "code",
   "execution_count": 153,
   "id": "d2593cd1",
   "metadata": {},
   "outputs": [],
   "source": [
    "df_skills = pd.read_csv('DataSkills.csv')\n",
    "df_stop = pd.read_csv('StopWords.csv')"
   ]
  },
  {
   "cell_type": "code",
   "execution_count": 154,
   "id": "9e601940",
   "metadata": {},
   "outputs": [
    {
     "data": {
      "text/html": [
       "<div>\n",
       "<style scoped>\n",
       "    .dataframe tbody tr th:only-of-type {\n",
       "        vertical-align: middle;\n",
       "    }\n",
       "\n",
       "    .dataframe tbody tr th {\n",
       "        vertical-align: top;\n",
       "    }\n",
       "\n",
       "    .dataframe thead th {\n",
       "        text-align: right;\n",
       "    }\n",
       "</style>\n",
       "<table border=\"1\" class=\"dataframe\">\n",
       "  <thead>\n",
       "    <tr style=\"text-align: right;\">\n",
       "      <th></th>\n",
       "      <th>00</th>\n",
       "      <th>000</th>\n",
       "      <th>10</th>\n",
       "      <th>100</th>\n",
       "      <th>1000</th>\n",
       "      <th>11</th>\n",
       "      <th>12</th>\n",
       "      <th>13</th>\n",
       "      <th>15</th>\n",
       "      <th>150</th>\n",
       "      <th>...</th>\n",
       "      <th>writing</th>\n",
       "      <th>written</th>\n",
       "      <th>www</th>\n",
       "      <th>xml</th>\n",
       "      <th>years</th>\n",
       "      <th>yes</th>\n",
       "      <th>yet</th>\n",
       "      <th>york</th>\n",
       "      <th>youll</th>\n",
       "      <th>yourself</th>\n",
       "    </tr>\n",
       "  </thead>\n",
       "  <tbody>\n",
       "    <tr>\n",
       "      <th>0</th>\n",
       "      <td>0.0</td>\n",
       "      <td>0.0</td>\n",
       "      <td>0.0</td>\n",
       "      <td>0.0</td>\n",
       "      <td>0.0</td>\n",
       "      <td>0.0</td>\n",
       "      <td>0.0</td>\n",
       "      <td>0.0</td>\n",
       "      <td>0.0</td>\n",
       "      <td>0.0</td>\n",
       "      <td>...</td>\n",
       "      <td>0.033574</td>\n",
       "      <td>0.00000</td>\n",
       "      <td>0.00000</td>\n",
       "      <td>0.0</td>\n",
       "      <td>0.028612</td>\n",
       "      <td>0.000000</td>\n",
       "      <td>0.0</td>\n",
       "      <td>0.000000</td>\n",
       "      <td>0.068729</td>\n",
       "      <td>0.063395</td>\n",
       "    </tr>\n",
       "    <tr>\n",
       "      <th>1</th>\n",
       "      <td>0.0</td>\n",
       "      <td>0.0</td>\n",
       "      <td>0.0</td>\n",
       "      <td>0.0</td>\n",
       "      <td>0.0</td>\n",
       "      <td>0.0</td>\n",
       "      <td>0.0</td>\n",
       "      <td>0.0</td>\n",
       "      <td>0.0</td>\n",
       "      <td>0.0</td>\n",
       "      <td>...</td>\n",
       "      <td>0.000000</td>\n",
       "      <td>0.02993</td>\n",
       "      <td>0.00000</td>\n",
       "      <td>0.0</td>\n",
       "      <td>0.019075</td>\n",
       "      <td>0.000000</td>\n",
       "      <td>0.0</td>\n",
       "      <td>0.000000</td>\n",
       "      <td>0.000000</td>\n",
       "      <td>0.000000</td>\n",
       "    </tr>\n",
       "    <tr>\n",
       "      <th>2</th>\n",
       "      <td>0.0</td>\n",
       "      <td>0.0</td>\n",
       "      <td>0.0</td>\n",
       "      <td>0.0</td>\n",
       "      <td>0.0</td>\n",
       "      <td>0.0</td>\n",
       "      <td>0.0</td>\n",
       "      <td>0.0</td>\n",
       "      <td>0.0</td>\n",
       "      <td>0.0</td>\n",
       "      <td>...</td>\n",
       "      <td>0.000000</td>\n",
       "      <td>0.00000</td>\n",
       "      <td>0.04949</td>\n",
       "      <td>0.0</td>\n",
       "      <td>0.020705</td>\n",
       "      <td>0.000000</td>\n",
       "      <td>0.0</td>\n",
       "      <td>0.099706</td>\n",
       "      <td>0.000000</td>\n",
       "      <td>0.000000</td>\n",
       "    </tr>\n",
       "    <tr>\n",
       "      <th>3</th>\n",
       "      <td>0.0</td>\n",
       "      <td>0.0</td>\n",
       "      <td>0.0</td>\n",
       "      <td>0.0</td>\n",
       "      <td>0.0</td>\n",
       "      <td>0.0</td>\n",
       "      <td>0.0</td>\n",
       "      <td>0.0</td>\n",
       "      <td>0.0</td>\n",
       "      <td>0.0</td>\n",
       "      <td>...</td>\n",
       "      <td>0.000000</td>\n",
       "      <td>0.00000</td>\n",
       "      <td>0.00000</td>\n",
       "      <td>0.0</td>\n",
       "      <td>0.035045</td>\n",
       "      <td>0.079043</td>\n",
       "      <td>0.0</td>\n",
       "      <td>0.000000</td>\n",
       "      <td>0.000000</td>\n",
       "      <td>0.000000</td>\n",
       "    </tr>\n",
       "    <tr>\n",
       "      <th>4</th>\n",
       "      <td>0.0</td>\n",
       "      <td>0.0</td>\n",
       "      <td>0.0</td>\n",
       "      <td>0.0</td>\n",
       "      <td>0.0</td>\n",
       "      <td>0.0</td>\n",
       "      <td>0.0</td>\n",
       "      <td>0.0</td>\n",
       "      <td>0.0</td>\n",
       "      <td>0.0</td>\n",
       "      <td>...</td>\n",
       "      <td>0.000000</td>\n",
       "      <td>0.00000</td>\n",
       "      <td>0.00000</td>\n",
       "      <td>0.0</td>\n",
       "      <td>0.023256</td>\n",
       "      <td>0.000000</td>\n",
       "      <td>0.0</td>\n",
       "      <td>0.066145</td>\n",
       "      <td>0.000000</td>\n",
       "      <td>0.000000</td>\n",
       "    </tr>\n",
       "  </tbody>\n",
       "</table>\n",
       "<p>5 rows × 2770 columns</p>\n",
       "</div>"
      ],
      "text/plain": [
       "    00  000   10  100  1000   11   12   13   15  150  ...   writing  written  \\\n",
       "0  0.0  0.0  0.0  0.0   0.0  0.0  0.0  0.0  0.0  0.0  ...  0.033574  0.00000   \n",
       "1  0.0  0.0  0.0  0.0   0.0  0.0  0.0  0.0  0.0  0.0  ...  0.000000  0.02993   \n",
       "2  0.0  0.0  0.0  0.0   0.0  0.0  0.0  0.0  0.0  0.0  ...  0.000000  0.00000   \n",
       "3  0.0  0.0  0.0  0.0   0.0  0.0  0.0  0.0  0.0  0.0  ...  0.000000  0.00000   \n",
       "4  0.0  0.0  0.0  0.0   0.0  0.0  0.0  0.0  0.0  0.0  ...  0.000000  0.00000   \n",
       "\n",
       "       www  xml     years       yes  yet      york     youll  yourself  \n",
       "0  0.00000  0.0  0.028612  0.000000  0.0  0.000000  0.068729  0.063395  \n",
       "1  0.00000  0.0  0.019075  0.000000  0.0  0.000000  0.000000  0.000000  \n",
       "2  0.04949  0.0  0.020705  0.000000  0.0  0.099706  0.000000  0.000000  \n",
       "3  0.00000  0.0  0.035045  0.079043  0.0  0.000000  0.000000  0.000000  \n",
       "4  0.00000  0.0  0.023256  0.000000  0.0  0.066145  0.000000  0.000000  \n",
       "\n",
       "[5 rows x 2770 columns]"
      ]
     },
     "execution_count": 154,
     "metadata": {},
     "output_type": "execute_result"
    }
   ],
   "source": [
    "stop_words = df_stop.word.tolist()\n",
    "\n",
    "vect = TfidfVectorizer(sublinear_tf=True, norm='l2', min_df=0.01, max_df=0.95, ngram_range=(1, 1), stop_words=stop_words)\n",
    "vectX = vect.fit_transform(df['Job Description'])\n",
    "    \n",
    "vectX = vectX.toarray()\n",
    "df_vect = pd.DataFrame(vectX, columns=vect.get_feature_names_out())\n",
    "df_vect.head()"
   ]
  },
  {
   "cell_type": "code",
   "execution_count": 164,
   "id": "e295cfb2",
   "metadata": {},
   "outputs": [],
   "source": [
    "skill_scaling = .1\n",
    "\n",
    "for skill in df_skills.skill.tolist():\n",
    "    if skill in df_vect.columns:\n",
    "        df_vect[skill] = np.power(df_vect[skill], skill_scaling)"
   ]
  },
  {
   "cell_type": "code",
   "execution_count": 168,
   "id": "44de535e",
   "metadata": {},
   "outputs": [],
   "source": [
    "nmf_model = NMF(n_components=3, init='random', random_state=10, max_iter=500)\n",
    "W = nmf_model.fit_transform(df_vect)\n",
    "H = nmf_model.components_"
   ]
  },
  {
   "cell_type": "code",
   "execution_count": 171,
   "id": "7c02913a",
   "metadata": {},
   "outputs": [
    {
     "name": "stdout",
     "output_type": "stream",
     "text": [
      "['tableau' 'bi' 'sql' 'microsoft' 'looker']\n",
      "['database' 'sql' 'microsoft' 'oracle' 'javascript']\n",
      "['python' 'sql' 'machine' 'aws' 'hadoop']\n"
     ]
    }
   ],
   "source": [
    "def max_impact_words(mat, word_names, num_words=5):\n",
    "    for cat in mat:\n",
    "        locs = cat.argsort()[-num_words:][::-1]\n",
    "        print(word_names[locs])\n",
    "\n",
    "words = vect.get_feature_names_out()     \n",
    "max_impact_words(H, word_names=words)"
   ]
  },
  {
   "cell_type": "markdown",
   "id": "c03ae1a0",
   "metadata": {},
   "source": [
    "Splitting the data into 3 clusters results in a significant amount of overlap. This is somewhat expected, as it would be unsurprising if a majority of data analyst job postings required SQL skills. Nonetheless, these clusters still convey some degree of meaningfullness. The first cluster is associated with data visualization, the second with databases, and the third with something closer to machine learning. "
   ]
  },
  {
   "cell_type": "code",
   "execution_count": null,
   "id": "4b1308e2",
   "metadata": {},
   "outputs": [],
   "source": []
  },
  {
   "cell_type": "code",
   "execution_count": null,
   "id": "e4251aab",
   "metadata": {},
   "outputs": [],
   "source": []
  }
 ],
 "metadata": {
  "kernelspec": {
   "display_name": "Python 3 (ipykernel)",
   "language": "python",
   "name": "python3"
  },
  "language_info": {
   "codemirror_mode": {
    "name": "ipython",
    "version": 3
   },
   "file_extension": ".py",
   "mimetype": "text/x-python",
   "name": "python",
   "nbconvert_exporter": "python",
   "pygments_lexer": "ipython3",
   "version": "3.10.1"
  }
 },
 "nbformat": 4,
 "nbformat_minor": 5
}
